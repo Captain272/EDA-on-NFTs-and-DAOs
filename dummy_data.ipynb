{
 "cells": [
  {
   "cell_type": "code",
   "execution_count": 15,
   "id": "21d5a00d",
   "metadata": {},
   "outputs": [
    {
     "data": {
      "text/plain": [
       "array([[ 2.,  7.],\n",
       "       [ 3., 11.],\n",
       "       [ 5., 18.]])"
      ]
     },
     "execution_count": 15,
     "metadata": {},
     "output_type": "execute_result"
    }
   ],
   "source": [
    "import numpy as np\n",
    "from sklearn.metrics import pairwise_distances\n",
    "from sklearn.metrics.pairwise import pairwise_kernels,PAIRWISE_KERNEL_FUNCTIONS\n",
    "X = np.array([[2, 3], [3, 5], [5, 8]])\n",
    "\n",
    "Y = np.array([[1, 0], [2, 1]])\n",
    "pairwise_distances(X, Y, metric='manhattan')\n",
    "\n",
    "\n",
    "\n",
    "pairwise_distances(X, metric='manhattan')\n",
    "\n",
    "\n",
    "\n",
    "pairwise_kernels(X, Y, metric='linear')\n",
    "\n"
   ]
  },
  {
   "cell_type": "code",
   "execution_count": 36,
   "id": "278e758b",
   "metadata": {},
   "outputs": [],
   "source": [
    "X = np.array([[1, 1, 1], [2, 1, 2], [3, 3, 3], [2, 4, 2]])\n",
    "\n",
    "Y = np.array([[1, 2, 1]])\n",
    "sim = pairwise_distances(X, Y, metric='cosine')\n"
   ]
  },
  {
   "cell_type": "code",
   "execution_count": 49,
   "id": "d4eab30a",
   "metadata": {},
   "outputs": [],
   "source": [
    "ranked = sorted([(i, x[0]) for i, x in enumerate(sim)], reverse=True, key=lambda x: x[1])"
   ]
  },
  {
   "cell_type": "code",
   "execution_count": 59,
   "id": "196beb7d",
   "metadata": {},
   "outputs": [],
   "source": [
    "idx = [x[0] for x in ranked[:3]]"
   ]
  },
  {
   "cell_type": "code",
   "execution_count": 61,
   "id": "69e14bdb",
   "metadata": {},
   "outputs": [
    {
     "data": {
      "text/plain": [
       "array([[2, 1, 2],\n",
       "       [3, 3, 3],\n",
       "       [1, 1, 1]])"
      ]
     },
     "execution_count": 61,
     "metadata": {},
     "output_type": "execute_result"
    }
   ],
   "source": [
    "X[idx]\n"
   ]
  },
  {
   "cell_type": "code",
   "execution_count": 65,
   "id": "87ec6124",
   "metadata": {},
   "outputs": [],
   "source": [
    "import random"
   ]
  },
  {
   "cell_type": "code",
   "execution_count": 74,
   "id": "8f424475",
   "metadata": {},
   "outputs": [],
   "source": [
    "dummy = {\n",
    "    \"age\":list(range(10, 100)),\n",
    "    \"gender\":['male', 'female','other'],\n",
    "    \"location\":['Mumbai','Delhi','Kolkata','Chennai','Bangalore','Hyderabad','Ahmedabad','Pune'],\n",
    "    \"country\":['India'],\n",
    "    \"income\":list(range(360000, 6000000, 50000)),\n",
    "    \"blockchains\":[\"Bitcoin\", \"Ethereum\", \"Solana\", \"Polygon\", \"Flow\", \"Cardano\", \"Avalanche\", \"Binance Smart Chain\",'Ripple'],\n",
    "    \"interests\":[\" \"]\n",
    "}"
   ]
  },
  {
   "cell_type": "code",
   "execution_count": null,
   "id": "589d23bc",
   "metadata": {},
   "outputs": [],
   "source": []
  },
  {
   "cell_type": "code",
   "execution_count": null,
   "id": "42e8fbfb",
   "metadata": {},
   "outputs": [],
   "source": []
  },
  {
   "cell_type": "code",
   "execution_count": null,
   "id": "87528abc",
   "metadata": {},
   "outputs": [],
   "source": []
  },
  {
   "cell_type": "code",
   "execution_count": null,
   "id": "fd1fe89d",
   "metadata": {},
   "outputs": [],
   "source": []
  },
  {
   "cell_type": "code",
   "execution_count": null,
   "id": "178fd2b3",
   "metadata": {},
   "outputs": [],
   "source": []
  },
  {
   "cell_type": "code",
   "execution_count": null,
   "id": "e31fd9f2",
   "metadata": {},
   "outputs": [],
   "source": []
  },
  {
   "cell_type": "code",
   "execution_count": null,
   "id": "5abb7717",
   "metadata": {},
   "outputs": [],
   "source": []
  },
  {
   "cell_type": "code",
   "execution_count": null,
   "id": "4d05facb",
   "metadata": {},
   "outputs": [],
   "source": []
  },
  {
   "cell_type": "code",
   "execution_count": null,
   "id": "d881e445",
   "metadata": {},
   "outputs": [],
   "source": []
  },
  {
   "cell_type": "code",
   "execution_count": null,
   "id": "1c32cee4",
   "metadata": {},
   "outputs": [],
   "source": []
  },
  {
   "cell_type": "code",
   "execution_count": null,
   "id": "b88faf3f",
   "metadata": {},
   "outputs": [],
   "source": []
  },
  {
   "cell_type": "code",
   "execution_count": null,
   "id": "8d5a54fa",
   "metadata": {},
   "outputs": [],
   "source": []
  },
  {
   "cell_type": "code",
   "execution_count": null,
   "id": "35f1ea79",
   "metadata": {},
   "outputs": [],
   "source": []
  },
  {
   "cell_type": "code",
   "execution_count": null,
   "id": "268ef784",
   "metadata": {},
   "outputs": [],
   "source": []
  },
  {
   "cell_type": "code",
   "execution_count": null,
   "id": "5eb965cf",
   "metadata": {},
   "outputs": [],
   "source": []
  }
 ],
 "metadata": {
  "kernelspec": {
   "display_name": "Python 3 (ipykernel)",
   "language": "python",
   "name": "python3"
  },
  "language_info": {
   "codemirror_mode": {
    "name": "ipython",
    "version": 3
   },
   "file_extension": ".py",
   "mimetype": "text/x-python",
   "name": "python",
   "nbconvert_exporter": "python",
   "pygments_lexer": "ipython3",
   "version": "3.8.10"
  }
 },
 "nbformat": 4,
 "nbformat_minor": 5
}
