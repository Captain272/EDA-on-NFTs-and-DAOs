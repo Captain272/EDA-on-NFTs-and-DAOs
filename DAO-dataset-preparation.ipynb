{
 "cells": [
  {
   "cell_type": "code",
   "execution_count": 7,
   "id": "1a55d7ce",
   "metadata": {},
   "outputs": [],
   "source": [
    "import pandas as pd"
   ]
  },
  {
   "cell_type": "code",
   "execution_count": 30,
   "id": "f099dc60",
   "metadata": {},
   "outputs": [],
   "source": [
    "dao = pd.read_csv(\"data/DAOs_DATA.txt\")"
   ]
  },
  {
   "cell_type": "code",
   "execution_count": 31,
   "id": "3751a19a",
   "metadata": {},
   "outputs": [
    {
     "data": {
      "text/html": [
       "<div>\n",
       "<style scoped>\n",
       "    .dataframe tbody tr th:only-of-type {\n",
       "        vertical-align: middle;\n",
       "    }\n",
       "\n",
       "    .dataframe tbody tr th {\n",
       "        vertical-align: top;\n",
       "    }\n",
       "\n",
       "    .dataframe thead th {\n",
       "        text-align: right;\n",
       "    }\n",
       "</style>\n",
       "<table border=\"1\" class=\"dataframe\">\n",
       "  <thead>\n",
       "    <tr style=\"text-align: right;\">\n",
       "      <th></th>\n",
       "      <th>Unnamed: 0</th>\n",
       "      <th>Dao_title</th>\n",
       "      <th>categories</th>\n",
       "      <th>about</th>\n",
       "      <th>simdaos</th>\n",
       "      <th>chain</th>\n",
       "    </tr>\n",
       "  </thead>\n",
       "  <tbody>\n",
       "    <tr>\n",
       "      <th>0</th>\n",
       "      <td>0</td>\n",
       "      <td>DAOHQ - Yog8 DAO</td>\n",
       "      <td>['Social Impact']</td>\n",
       "      <td>Yog8 DAO encourages wellness in Web3 by offeri...</td>\n",
       "      <td>['Antidote DAO', 'BoldDao', 'Boss Beauties DAO...</td>\n",
       "      <td>['Ethereum', '89.0']</td>\n",
       "    </tr>\n",
       "    <tr>\n",
       "      <th>1</th>\n",
       "      <td>1</td>\n",
       "      <td>DAOHQ - Lit Protocol DAO</td>\n",
       "      <td>['DAO Tools', 'Protocol']</td>\n",
       "      <td>Decentralized access control infrastructure de...</td>\n",
       "      <td>['88mph', 'APY Vision', '0x', '1inch Network']</td>\n",
       "      <td>['Ethereum', '20.6K']</td>\n",
       "    </tr>\n",
       "    <tr>\n",
       "      <th>2</th>\n",
       "      <td>2</td>\n",
       "      <td>DAOHQ - MinMax DAO</td>\n",
       "      <td>['Investment']</td>\n",
       "      <td>The IoTeX native cross-chain pegged assets AMM...</td>\n",
       "      <td>['80Acres DAO', 'Alpha Finance Lab', '8DAO', '...</td>\n",
       "      <td>['Ethereum', '55.0']</td>\n",
       "    </tr>\n",
       "    <tr>\n",
       "      <th>3</th>\n",
       "      <td>3</td>\n",
       "      <td>DAOHQ - Blockade Games DAO</td>\n",
       "      <td>['DAO Tools', 'Gaming']</td>\n",
       "      <td>Leading blockchain video game development stud...</td>\n",
       "      <td>['88mph', 'APY Vision', '0x', '1inch Network']</td>\n",
       "      <td>['Ethereum', '13.1K']</td>\n",
       "    </tr>\n",
       "    <tr>\n",
       "      <th>4</th>\n",
       "      <td>4</td>\n",
       "      <td>DAOHQ - The LAO DAO</td>\n",
       "      <td>[' www.thelao.io', ' www.thelao.io']</td>\n",
       "      <td>The LAO is a limited-liability, for-profit DAO...</td>\n",
       "      <td>[]</td>\n",
       "      <td>[]</td>\n",
       "    </tr>\n",
       "  </tbody>\n",
       "</table>\n",
       "</div>"
      ],
      "text/plain": [
       "   Unnamed: 0                   Dao_title  \\\n",
       "0           0            DAOHQ - Yog8 DAO   \n",
       "1           1    DAOHQ - Lit Protocol DAO   \n",
       "2           2          DAOHQ - MinMax DAO   \n",
       "3           3  DAOHQ - Blockade Games DAO   \n",
       "4           4         DAOHQ - The LAO DAO   \n",
       "\n",
       "                             categories  \\\n",
       "0                     ['Social Impact']   \n",
       "1             ['DAO Tools', 'Protocol']   \n",
       "2                        ['Investment']   \n",
       "3               ['DAO Tools', 'Gaming']   \n",
       "4  [' www.thelao.io', ' www.thelao.io']   \n",
       "\n",
       "                                               about  \\\n",
       "0  Yog8 DAO encourages wellness in Web3 by offeri...   \n",
       "1  Decentralized access control infrastructure de...   \n",
       "2  The IoTeX native cross-chain pegged assets AMM...   \n",
       "3  Leading blockchain video game development stud...   \n",
       "4  The LAO is a limited-liability, for-profit DAO...   \n",
       "\n",
       "                                             simdaos                  chain  \n",
       "0  ['Antidote DAO', 'BoldDao', 'Boss Beauties DAO...   ['Ethereum', '89.0']  \n",
       "1     ['88mph', 'APY Vision', '0x', '1inch Network']  ['Ethereum', '20.6K']  \n",
       "2  ['80Acres DAO', 'Alpha Finance Lab', '8DAO', '...   ['Ethereum', '55.0']  \n",
       "3     ['88mph', 'APY Vision', '0x', '1inch Network']  ['Ethereum', '13.1K']  \n",
       "4                                                 []                     []  "
      ]
     },
     "execution_count": 31,
     "metadata": {},
     "output_type": "execute_result"
    }
   ],
   "source": [
    "dao.head()"
   ]
  },
  {
   "cell_type": "markdown",
   "id": "cd2f818a",
   "metadata": {},
   "source": [
    "# Preprocessing"
   ]
  },
  {
   "cell_type": "code",
   "execution_count": 32,
   "id": "c17e81ae",
   "metadata": {},
   "outputs": [
    {
     "data": {
      "text/plain": [
       "(1006, 6)"
      ]
     },
     "execution_count": 32,
     "metadata": {},
     "output_type": "execute_result"
    }
   ],
   "source": [
    "dao.shape"
   ]
  },
  {
   "cell_type": "code",
   "execution_count": 55,
   "id": "5478ca0f",
   "metadata": {},
   "outputs": [],
   "source": [
    "data = dao.drop('Unnamed: 0',axis=1)"
   ]
  },
  {
   "cell_type": "code",
   "execution_count": 56,
   "id": "997d4d18",
   "metadata": {},
   "outputs": [
    {
     "data": {
      "text/html": [
       "<div>\n",
       "<style scoped>\n",
       "    .dataframe tbody tr th:only-of-type {\n",
       "        vertical-align: middle;\n",
       "    }\n",
       "\n",
       "    .dataframe tbody tr th {\n",
       "        vertical-align: top;\n",
       "    }\n",
       "\n",
       "    .dataframe thead th {\n",
       "        text-align: right;\n",
       "    }\n",
       "</style>\n",
       "<table border=\"1\" class=\"dataframe\">\n",
       "  <thead>\n",
       "    <tr style=\"text-align: right;\">\n",
       "      <th></th>\n",
       "      <th>Dao_title</th>\n",
       "      <th>categories</th>\n",
       "      <th>about</th>\n",
       "      <th>simdaos</th>\n",
       "      <th>chain</th>\n",
       "    </tr>\n",
       "  </thead>\n",
       "  <tbody>\n",
       "    <tr>\n",
       "      <th>0</th>\n",
       "      <td>DAOHQ - Yog8 DAO</td>\n",
       "      <td>['Social Impact']</td>\n",
       "      <td>Yog8 DAO encourages wellness in Web3 by offeri...</td>\n",
       "      <td>['Antidote DAO', 'BoldDao', 'Boss Beauties DAO...</td>\n",
       "      <td>['Ethereum', '89.0']</td>\n",
       "    </tr>\n",
       "    <tr>\n",
       "      <th>1</th>\n",
       "      <td>DAOHQ - Lit Protocol DAO</td>\n",
       "      <td>['DAO Tools', 'Protocol']</td>\n",
       "      <td>Decentralized access control infrastructure de...</td>\n",
       "      <td>['88mph', 'APY Vision', '0x', '1inch Network']</td>\n",
       "      <td>['Ethereum', '20.6K']</td>\n",
       "    </tr>\n",
       "    <tr>\n",
       "      <th>2</th>\n",
       "      <td>DAOHQ - MinMax DAO</td>\n",
       "      <td>['Investment']</td>\n",
       "      <td>The IoTeX native cross-chain pegged assets AMM...</td>\n",
       "      <td>['80Acres DAO', 'Alpha Finance Lab', '8DAO', '...</td>\n",
       "      <td>['Ethereum', '55.0']</td>\n",
       "    </tr>\n",
       "    <tr>\n",
       "      <th>3</th>\n",
       "      <td>DAOHQ - Blockade Games DAO</td>\n",
       "      <td>['DAO Tools', 'Gaming']</td>\n",
       "      <td>Leading blockchain video game development stud...</td>\n",
       "      <td>['88mph', 'APY Vision', '0x', '1inch Network']</td>\n",
       "      <td>['Ethereum', '13.1K']</td>\n",
       "    </tr>\n",
       "    <tr>\n",
       "      <th>4</th>\n",
       "      <td>DAOHQ - The LAO DAO</td>\n",
       "      <td>[' www.thelao.io', ' www.thelao.io']</td>\n",
       "      <td>The LAO is a limited-liability, for-profit DAO...</td>\n",
       "      <td>[]</td>\n",
       "      <td>[]</td>\n",
       "    </tr>\n",
       "  </tbody>\n",
       "</table>\n",
       "</div>"
      ],
      "text/plain": [
       "                    Dao_title                            categories  \\\n",
       "0            DAOHQ - Yog8 DAO                     ['Social Impact']   \n",
       "1    DAOHQ - Lit Protocol DAO             ['DAO Tools', 'Protocol']   \n",
       "2          DAOHQ - MinMax DAO                        ['Investment']   \n",
       "3  DAOHQ - Blockade Games DAO               ['DAO Tools', 'Gaming']   \n",
       "4         DAOHQ - The LAO DAO  [' www.thelao.io', ' www.thelao.io']   \n",
       "\n",
       "                                               about  \\\n",
       "0  Yog8 DAO encourages wellness in Web3 by offeri...   \n",
       "1  Decentralized access control infrastructure de...   \n",
       "2  The IoTeX native cross-chain pegged assets AMM...   \n",
       "3  Leading blockchain video game development stud...   \n",
       "4  The LAO is a limited-liability, for-profit DAO...   \n",
       "\n",
       "                                             simdaos                  chain  \n",
       "0  ['Antidote DAO', 'BoldDao', 'Boss Beauties DAO...   ['Ethereum', '89.0']  \n",
       "1     ['88mph', 'APY Vision', '0x', '1inch Network']  ['Ethereum', '20.6K']  \n",
       "2  ['80Acres DAO', 'Alpha Finance Lab', '8DAO', '...   ['Ethereum', '55.0']  \n",
       "3     ['88mph', 'APY Vision', '0x', '1inch Network']  ['Ethereum', '13.1K']  \n",
       "4                                                 []                     []  "
      ]
     },
     "execution_count": 56,
     "metadata": {},
     "output_type": "execute_result"
    }
   ],
   "source": [
    "data.head()"
   ]
  },
  {
   "cell_type": "code",
   "execution_count": 57,
   "id": "a292117a",
   "metadata": {},
   "outputs": [],
   "source": [
    "data.Dao_title = data.Dao_title.str.replace('DAOHQ - ','').str.lower()"
   ]
  },
  {
   "cell_type": "code",
   "execution_count": 58,
   "id": "9f2db294",
   "metadata": {},
   "outputs": [
    {
     "data": {
      "text/html": [
       "<div>\n",
       "<style scoped>\n",
       "    .dataframe tbody tr th:only-of-type {\n",
       "        vertical-align: middle;\n",
       "    }\n",
       "\n",
       "    .dataframe tbody tr th {\n",
       "        vertical-align: top;\n",
       "    }\n",
       "\n",
       "    .dataframe thead th {\n",
       "        text-align: right;\n",
       "    }\n",
       "</style>\n",
       "<table border=\"1\" class=\"dataframe\">\n",
       "  <thead>\n",
       "    <tr style=\"text-align: right;\">\n",
       "      <th></th>\n",
       "      <th>Dao_title</th>\n",
       "      <th>categories</th>\n",
       "      <th>about</th>\n",
       "      <th>simdaos</th>\n",
       "      <th>chain</th>\n",
       "    </tr>\n",
       "  </thead>\n",
       "  <tbody>\n",
       "    <tr>\n",
       "      <th>0</th>\n",
       "      <td>yog8 dao</td>\n",
       "      <td>['Social Impact']</td>\n",
       "      <td>Yog8 DAO encourages wellness in Web3 by offeri...</td>\n",
       "      <td>['Antidote DAO', 'BoldDao', 'Boss Beauties DAO...</td>\n",
       "      <td>['Ethereum', '89.0']</td>\n",
       "    </tr>\n",
       "    <tr>\n",
       "      <th>1</th>\n",
       "      <td>lit protocol dao</td>\n",
       "      <td>['DAO Tools', 'Protocol']</td>\n",
       "      <td>Decentralized access control infrastructure de...</td>\n",
       "      <td>['88mph', 'APY Vision', '0x', '1inch Network']</td>\n",
       "      <td>['Ethereum', '20.6K']</td>\n",
       "    </tr>\n",
       "    <tr>\n",
       "      <th>2</th>\n",
       "      <td>minmax dao</td>\n",
       "      <td>['Investment']</td>\n",
       "      <td>The IoTeX native cross-chain pegged assets AMM...</td>\n",
       "      <td>['80Acres DAO', 'Alpha Finance Lab', '8DAO', '...</td>\n",
       "      <td>['Ethereum', '55.0']</td>\n",
       "    </tr>\n",
       "    <tr>\n",
       "      <th>3</th>\n",
       "      <td>blockade games dao</td>\n",
       "      <td>['DAO Tools', 'Gaming']</td>\n",
       "      <td>Leading blockchain video game development stud...</td>\n",
       "      <td>['88mph', 'APY Vision', '0x', '1inch Network']</td>\n",
       "      <td>['Ethereum', '13.1K']</td>\n",
       "    </tr>\n",
       "    <tr>\n",
       "      <th>4</th>\n",
       "      <td>the lao dao</td>\n",
       "      <td>[' www.thelao.io', ' www.thelao.io']</td>\n",
       "      <td>The LAO is a limited-liability, for-profit DAO...</td>\n",
       "      <td>[]</td>\n",
       "      <td>[]</td>\n",
       "    </tr>\n",
       "  </tbody>\n",
       "</table>\n",
       "</div>"
      ],
      "text/plain": [
       "            Dao_title                            categories  \\\n",
       "0            yog8 dao                     ['Social Impact']   \n",
       "1    lit protocol dao             ['DAO Tools', 'Protocol']   \n",
       "2          minmax dao                        ['Investment']   \n",
       "3  blockade games dao               ['DAO Tools', 'Gaming']   \n",
       "4         the lao dao  [' www.thelao.io', ' www.thelao.io']   \n",
       "\n",
       "                                               about  \\\n",
       "0  Yog8 DAO encourages wellness in Web3 by offeri...   \n",
       "1  Decentralized access control infrastructure de...   \n",
       "2  The IoTeX native cross-chain pegged assets AMM...   \n",
       "3  Leading blockchain video game development stud...   \n",
       "4  The LAO is a limited-liability, for-profit DAO...   \n",
       "\n",
       "                                             simdaos                  chain  \n",
       "0  ['Antidote DAO', 'BoldDao', 'Boss Beauties DAO...   ['Ethereum', '89.0']  \n",
       "1     ['88mph', 'APY Vision', '0x', '1inch Network']  ['Ethereum', '20.6K']  \n",
       "2  ['80Acres DAO', 'Alpha Finance Lab', '8DAO', '...   ['Ethereum', '55.0']  \n",
       "3     ['88mph', 'APY Vision', '0x', '1inch Network']  ['Ethereum', '13.1K']  \n",
       "4                                                 []                     []  "
      ]
     },
     "execution_count": 58,
     "metadata": {},
     "output_type": "execute_result"
    }
   ],
   "source": [
    "data.head()"
   ]
  },
  {
   "cell_type": "code",
   "execution_count": 59,
   "id": "5c3e54b3",
   "metadata": {},
   "outputs": [],
   "source": [
    "import ast"
   ]
  },
  {
   "cell_type": "code",
   "execution_count": 60,
   "id": "99419b7f",
   "metadata": {},
   "outputs": [
    {
     "data": {
      "text/plain": [
       "0                        [Social Impact]\n",
       "1                  [DAO Tools, Protocol]\n",
       "2                           [Investment]\n",
       "3                    [DAO Tools, Gaming]\n",
       "4       [ www.thelao.io,  www.thelao.io]\n",
       "                      ...               \n",
       "1001      [Metaverse, Collector, Social]\n",
       "1002                  [DeFi, Investment]\n",
       "1003                            [Gaming]\n",
       "1004             [Gaming, Entertainment]\n",
       "1005                     [Media, Social]\n",
       "Name: categories, Length: 1006, dtype: object"
      ]
     },
     "execution_count": 60,
     "metadata": {},
     "output_type": "execute_result"
    }
   ],
   "source": [
    "data.categories = data.categories.apply(lambda x: ast.literal_eval(x))\n",
    "data.categories"
   ]
  },
  {
   "cell_type": "code",
   "execution_count": 61,
   "id": "10db9cde",
   "metadata": {},
   "outputs": [
    {
     "data": {
      "text/plain": [
       "0                      [Social Impact]\n",
       "1                [DAO Tools, Protocol]\n",
       "2                         [Investment]\n",
       "3                  [DAO Tools, Gaming]\n",
       "4                       [other, other]\n",
       "                     ...              \n",
       "1001    [Metaverse, Collector, Social]\n",
       "1002                [DeFi, Investment]\n",
       "1003                          [Gaming]\n",
       "1004           [Gaming, Entertainment]\n",
       "1005                   [Media, Social]\n",
       "Name: categories, Length: 1006, dtype: object"
      ]
     },
     "execution_count": 61,
     "metadata": {},
     "output_type": "execute_result"
    }
   ],
   "source": [
    "categories = [\"Collector\",\"DAO Tools\",\"DeFi\",\"Entertainment\",\"Gaming\",\"Grant\",\"Investment\",\"Media\",\n",
    "              \"Metaverse\",\"Operating Systems\",\"Protocol\",\"SPAD\"\"Service\",\"Social\",\"Social Impact\",\n",
    "              \"Venture Capital\"]\n",
    "\n",
    "def category_replace(x):\n",
    "    for i, cat in enumerate(x):\n",
    "        if cat not in categories:\n",
    "            x[i] = \"other\"\n",
    "            \n",
    "    return x\n",
    "#category_replace([ \"www.thelao.io\", \" www.thelao.io\"])       \n",
    "\n",
    "data.categories.apply(category_replace)"
   ]
  },
  {
   "cell_type": "code",
   "execution_count": null,
   "id": "f7c17062",
   "metadata": {},
   "outputs": [],
   "source": []
  },
  {
   "cell_type": "code",
   "execution_count": 64,
   "id": "bbcd9797",
   "metadata": {},
   "outputs": [],
   "source": [
    "from sklearn.preprocessing import MultiLabelBinarizer\n",
    "mlb = MultiLabelBinarizer()\n",
    "# mlb.fit_transform([(1, 2), (3,)])\n",
    "\n",
    "\n",
    "# mlb.classes_"
   ]
  },
  {
   "cell_type": "code",
   "execution_count": 65,
   "id": "c0a1e638",
   "metadata": {},
   "outputs": [
    {
     "data": {
      "text/html": [
       "<style>#sk-container-id-1 {color: black;background-color: white;}#sk-container-id-1 pre{padding: 0;}#sk-container-id-1 div.sk-toggleable {background-color: white;}#sk-container-id-1 label.sk-toggleable__label {cursor: pointer;display: block;width: 100%;margin-bottom: 0;padding: 0.3em;box-sizing: border-box;text-align: center;}#sk-container-id-1 label.sk-toggleable__label-arrow:before {content: \"▸\";float: left;margin-right: 0.25em;color: #696969;}#sk-container-id-1 label.sk-toggleable__label-arrow:hover:before {color: black;}#sk-container-id-1 div.sk-estimator:hover label.sk-toggleable__label-arrow:before {color: black;}#sk-container-id-1 div.sk-toggleable__content {max-height: 0;max-width: 0;overflow: hidden;text-align: left;background-color: #f0f8ff;}#sk-container-id-1 div.sk-toggleable__content pre {margin: 0.2em;color: black;border-radius: 0.25em;background-color: #f0f8ff;}#sk-container-id-1 input.sk-toggleable__control:checked~div.sk-toggleable__content {max-height: 200px;max-width: 100%;overflow: auto;}#sk-container-id-1 input.sk-toggleable__control:checked~label.sk-toggleable__label-arrow:before {content: \"▾\";}#sk-container-id-1 div.sk-estimator input.sk-toggleable__control:checked~label.sk-toggleable__label {background-color: #d4ebff;}#sk-container-id-1 div.sk-label input.sk-toggleable__control:checked~label.sk-toggleable__label {background-color: #d4ebff;}#sk-container-id-1 input.sk-hidden--visually {border: 0;clip: rect(1px 1px 1px 1px);clip: rect(1px, 1px, 1px, 1px);height: 1px;margin: -1px;overflow: hidden;padding: 0;position: absolute;width: 1px;}#sk-container-id-1 div.sk-estimator {font-family: monospace;background-color: #f0f8ff;border: 1px dotted black;border-radius: 0.25em;box-sizing: border-box;margin-bottom: 0.5em;}#sk-container-id-1 div.sk-estimator:hover {background-color: #d4ebff;}#sk-container-id-1 div.sk-parallel-item::after {content: \"\";width: 100%;border-bottom: 1px solid gray;flex-grow: 1;}#sk-container-id-1 div.sk-label:hover label.sk-toggleable__label {background-color: #d4ebff;}#sk-container-id-1 div.sk-serial::before {content: \"\";position: absolute;border-left: 1px solid gray;box-sizing: border-box;top: 0;bottom: 0;left: 50%;z-index: 0;}#sk-container-id-1 div.sk-serial {display: flex;flex-direction: column;align-items: center;background-color: white;padding-right: 0.2em;padding-left: 0.2em;position: relative;}#sk-container-id-1 div.sk-item {position: relative;z-index: 1;}#sk-container-id-1 div.sk-parallel {display: flex;align-items: stretch;justify-content: center;background-color: white;position: relative;}#sk-container-id-1 div.sk-item::before, #sk-container-id-1 div.sk-parallel-item::before {content: \"\";position: absolute;border-left: 1px solid gray;box-sizing: border-box;top: 0;bottom: 0;left: 50%;z-index: -1;}#sk-container-id-1 div.sk-parallel-item {display: flex;flex-direction: column;z-index: 1;position: relative;background-color: white;}#sk-container-id-1 div.sk-parallel-item:first-child::after {align-self: flex-end;width: 50%;}#sk-container-id-1 div.sk-parallel-item:last-child::after {align-self: flex-start;width: 50%;}#sk-container-id-1 div.sk-parallel-item:only-child::after {width: 0;}#sk-container-id-1 div.sk-dashed-wrapped {border: 1px dashed gray;margin: 0 0.4em 0.5em 0.4em;box-sizing: border-box;padding-bottom: 0.4em;background-color: white;}#sk-container-id-1 div.sk-label label {font-family: monospace;font-weight: bold;display: inline-block;line-height: 1.2em;}#sk-container-id-1 div.sk-label-container {text-align: center;}#sk-container-id-1 div.sk-container {/* jupyter's `normalize.less` sets `[hidden] { display: none; }` but bootstrap.min.css set `[hidden] { display: none !important; }` so we also need the `!important` here to be able to override the default hidden behavior on the sphinx rendered scikit-learn.org. See: https://github.com/scikit-learn/scikit-learn/issues/21755 */display: inline-block !important;position: relative;}#sk-container-id-1 div.sk-text-repr-fallback {display: none;}</style><div id=\"sk-container-id-1\" class=\"sk-top-container\"><div class=\"sk-text-repr-fallback\"><pre>MultiLabelBinarizer()</pre><b>In a Jupyter environment, please rerun this cell to show the HTML representation or trust the notebook. <br />On GitHub, the HTML representation is unable to render, please try loading this page with nbviewer.org.</b></div><div class=\"sk-container\" hidden><div class=\"sk-item\"><div class=\"sk-estimator sk-toggleable\"><input class=\"sk-toggleable__control sk-hidden--visually\" id=\"sk-estimator-id-1\" type=\"checkbox\" checked><label for=\"sk-estimator-id-1\" class=\"sk-toggleable__label sk-toggleable__label-arrow\">MultiLabelBinarizer</label><div class=\"sk-toggleable__content\"><pre>MultiLabelBinarizer()</pre></div></div></div></div></div>"
      ],
      "text/plain": [
       "MultiLabelBinarizer()"
      ]
     },
     "execution_count": 65,
     "metadata": {},
     "output_type": "execute_result"
    }
   ],
   "source": [
    "mlb.fit(data.categories)"
   ]
  },
  {
   "cell_type": "code",
   "execution_count": 66,
   "id": "6d0103cd",
   "metadata": {},
   "outputs": [
    {
     "data": {
      "text/plain": [
       "array(['Collector', 'DAO Tools', 'DeFi', 'Entertainment', 'Gaming',\n",
       "       'Grant', 'Investment', 'Media', 'Metaverse', 'Operating Systems',\n",
       "       'Protocol', 'Social', 'Social Impact', 'Venture Capital', 'other'],\n",
       "      dtype=object)"
      ]
     },
     "execution_count": 66,
     "metadata": {},
     "output_type": "execute_result"
    }
   ],
   "source": [
    "mlb.classes_"
   ]
  },
  {
   "cell_type": "code",
   "execution_count": 68,
   "id": "995f9952",
   "metadata": {},
   "outputs": [],
   "source": [
    "cat=pd.DataFrame(mlb.transform(data.categories),columns=mlb.classes_)"
   ]
  },
  {
   "cell_type": "code",
   "execution_count": 72,
   "id": "c32feea5",
   "metadata": {},
   "outputs": [],
   "source": [
    "data.chain = data.chain.apply(lambda x: ast.literal_eval(x))"
   ]
  },
  {
   "cell_type": "code",
   "execution_count": 78,
   "id": "be3f9b28",
   "metadata": {},
   "outputs": [
    {
     "data": {
      "text/plain": [
       "'Ethereum'"
      ]
     },
     "execution_count": 78,
     "metadata": {},
     "output_type": "execute_result"
    }
   ],
   "source": [
    "data.chain[0][0]"
   ]
  },
  {
   "cell_type": "code",
   "execution_count": 82,
   "id": "7d0ad39b",
   "metadata": {},
   "outputs": [
    {
     "data": {
      "text/html": [
       "<div>\n",
       "<style scoped>\n",
       "    .dataframe tbody tr th:only-of-type {\n",
       "        vertical-align: middle;\n",
       "    }\n",
       "\n",
       "    .dataframe tbody tr th {\n",
       "        vertical-align: top;\n",
       "    }\n",
       "\n",
       "    .dataframe thead th {\n",
       "        text-align: right;\n",
       "    }\n",
       "</style>\n",
       "<table border=\"1\" class=\"dataframe\">\n",
       "  <thead>\n",
       "    <tr style=\"text-align: right;\">\n",
       "      <th></th>\n",
       "      <th>Dao_title</th>\n",
       "      <th>categories</th>\n",
       "      <th>about</th>\n",
       "      <th>simdaos</th>\n",
       "      <th>chain</th>\n",
       "      <th>blockchain</th>\n",
       "      <th>followers</th>\n",
       "    </tr>\n",
       "  </thead>\n",
       "  <tbody>\n",
       "    <tr>\n",
       "      <th>0</th>\n",
       "      <td>yog8 dao</td>\n",
       "      <td>[Social Impact]</td>\n",
       "      <td>Yog8 DAO encourages wellness in Web3 by offeri...</td>\n",
       "      <td>['Antidote DAO', 'BoldDao', 'Boss Beauties DAO...</td>\n",
       "      <td>[Ethereum, 89.0]</td>\n",
       "      <td>Ethereum</td>\n",
       "      <td>89.0</td>\n",
       "    </tr>\n",
       "    <tr>\n",
       "      <th>1</th>\n",
       "      <td>lit protocol dao</td>\n",
       "      <td>[DAO Tools, Protocol]</td>\n",
       "      <td>Decentralized access control infrastructure de...</td>\n",
       "      <td>['88mph', 'APY Vision', '0x', '1inch Network']</td>\n",
       "      <td>[Ethereum, 20.6K]</td>\n",
       "      <td>Ethereum</td>\n",
       "      <td>20.6K</td>\n",
       "    </tr>\n",
       "    <tr>\n",
       "      <th>2</th>\n",
       "      <td>minmax dao</td>\n",
       "      <td>[Investment]</td>\n",
       "      <td>The IoTeX native cross-chain pegged assets AMM...</td>\n",
       "      <td>['80Acres DAO', 'Alpha Finance Lab', '8DAO', '...</td>\n",
       "      <td>[Ethereum, 55.0]</td>\n",
       "      <td>Ethereum</td>\n",
       "      <td>55.0</td>\n",
       "    </tr>\n",
       "    <tr>\n",
       "      <th>3</th>\n",
       "      <td>blockade games dao</td>\n",
       "      <td>[DAO Tools, Gaming]</td>\n",
       "      <td>Leading blockchain video game development stud...</td>\n",
       "      <td>['88mph', 'APY Vision', '0x', '1inch Network']</td>\n",
       "      <td>[Ethereum, 13.1K]</td>\n",
       "      <td>Ethereum</td>\n",
       "      <td>13.1K</td>\n",
       "    </tr>\n",
       "    <tr>\n",
       "      <th>4</th>\n",
       "      <td>the lao dao</td>\n",
       "      <td>[other, other]</td>\n",
       "      <td>The LAO is a limited-liability, for-profit DAO...</td>\n",
       "      <td>[]</td>\n",
       "      <td>[]</td>\n",
       "      <td>None</td>\n",
       "      <td>None</td>\n",
       "    </tr>\n",
       "  </tbody>\n",
       "</table>\n",
       "</div>"
      ],
      "text/plain": [
       "            Dao_title             categories  \\\n",
       "0            yog8 dao        [Social Impact]   \n",
       "1    lit protocol dao  [DAO Tools, Protocol]   \n",
       "2          minmax dao           [Investment]   \n",
       "3  blockade games dao    [DAO Tools, Gaming]   \n",
       "4         the lao dao         [other, other]   \n",
       "\n",
       "                                               about  \\\n",
       "0  Yog8 DAO encourages wellness in Web3 by offeri...   \n",
       "1  Decentralized access control infrastructure de...   \n",
       "2  The IoTeX native cross-chain pegged assets AMM...   \n",
       "3  Leading blockchain video game development stud...   \n",
       "4  The LAO is a limited-liability, for-profit DAO...   \n",
       "\n",
       "                                             simdaos              chain  \\\n",
       "0  ['Antidote DAO', 'BoldDao', 'Boss Beauties DAO...   [Ethereum, 89.0]   \n",
       "1     ['88mph', 'APY Vision', '0x', '1inch Network']  [Ethereum, 20.6K]   \n",
       "2  ['80Acres DAO', 'Alpha Finance Lab', '8DAO', '...   [Ethereum, 55.0]   \n",
       "3     ['88mph', 'APY Vision', '0x', '1inch Network']  [Ethereum, 13.1K]   \n",
       "4                                                 []                 []   \n",
       "\n",
       "  blockchain followers  \n",
       "0   Ethereum      89.0  \n",
       "1   Ethereum     20.6K  \n",
       "2   Ethereum      55.0  \n",
       "3   Ethereum     13.1K  \n",
       "4       None      None  "
      ]
     },
     "execution_count": 82,
     "metadata": {},
     "output_type": "execute_result"
    }
   ],
   "source": [
    "data['blockchain'] = data.chain.apply(lambda x: x[0] if len(x)==2 else None)\n",
    "data['followers'] = data.chain.apply(lambda x: x[1] if len(x)==2 else None)\n",
    "data.head()"
   ]
  },
  {
   "cell_type": "code",
   "execution_count": 84,
   "id": "fe5f5488",
   "metadata": {},
   "outputs": [
    {
     "data": {
      "text/plain": [
       "array(['Ethereum', None, 'Solana', 'Polygon', 'Binance', 'Bitcoin',\n",
       "       'Avalanche', 'NEAR', 'Fantom', 'Gnosis', 'Tezos', 'Arbitrum',\n",
       "       'Cosmos', 'Arweave', 'Moonriver', 'Kylin'], dtype=object)"
      ]
     },
     "execution_count": 84,
     "metadata": {},
     "output_type": "execute_result"
    }
   ],
   "source": [
    "data.blockchain.unique()"
   ]
  },
  {
   "cell_type": "code",
   "execution_count": 102,
   "id": "347dad0e",
   "metadata": {},
   "outputs": [
    {
     "data": {
      "text/plain": [
       "0         89.0\n",
       "1        20.6K\n",
       "2         55.0\n",
       "3        13.1K\n",
       "4         None\n",
       "         ...  \n",
       "1001     157.0\n",
       "1002      7.2K\n",
       "1003    256.9K\n",
       "1004     35.4K\n",
       "1005      3.5K\n",
       "Name: followers, Length: 1006, dtype: object"
      ]
     },
     "execution_count": 102,
     "metadata": {},
     "output_type": "execute_result"
    }
   ],
   "source": [
    "data.followers"
   ]
  },
  {
   "cell_type": "code",
   "execution_count": 91,
   "id": "37f0e7fb",
   "metadata": {},
   "outputs": [
    {
     "data": {
      "text/plain": [
       "'93.6K'"
      ]
     },
     "execution_count": 91,
     "metadata": {},
     "output_type": "execute_result"
    }
   ],
   "source": [
    "data.followers[113]"
   ]
  },
  {
   "cell_type": "code",
   "execution_count": 94,
   "id": "8103ce14",
   "metadata": {},
   "outputs": [
    {
     "name": "stdout",
     "output_type": "stream",
     "text": [
      "93600.0\n"
     ]
    }
   ],
   "source": []
  },
  {
   "cell_type": "code",
   "execution_count": 103,
   "id": "cb63075f",
   "metadata": {},
   "outputs": [],
   "source": [
    "def clean_followers(x):\n",
    "    if x:\n",
    "        return float(x.replace('K',''))*1000 if 'K' in x else x\n",
    "    return 0"
   ]
  },
  {
   "cell_type": "code",
   "execution_count": 104,
   "id": "926e6bc1",
   "metadata": {},
   "outputs": [
    {
     "data": {
      "text/plain": [
       "93600.0"
      ]
     },
     "execution_count": 104,
     "metadata": {},
     "output_type": "execute_result"
    }
   ],
   "source": [
    "clean_followers('93.6K')"
   ]
  },
  {
   "cell_type": "code",
   "execution_count": 105,
   "id": "66aab8e5",
   "metadata": {},
   "outputs": [
    {
     "data": {
      "text/plain": [
       "0           89.0\n",
       "1        20600.0\n",
       "2           55.0\n",
       "3        13100.0\n",
       "4              0\n",
       "          ...   \n",
       "1001       157.0\n",
       "1002      7200.0\n",
       "1003    256900.0\n",
       "1004     35400.0\n",
       "1005      3500.0\n",
       "Name: followers, Length: 1006, dtype: object"
      ]
     },
     "execution_count": 105,
     "metadata": {},
     "output_type": "execute_result"
    }
   ],
   "source": [
    "data.followers.apply(clean_followers)"
   ]
  },
  {
   "cell_type": "code",
   "execution_count": 107,
   "id": "b9cf3b47",
   "metadata": {},
   "outputs": [
    {
     "ename": "ValueError",
     "evalue": "could not convert string to float: '1.0M'",
     "output_type": "error",
     "traceback": [
      "\u001b[0;31m---------------------------------------------------------------------------\u001b[0m",
      "\u001b[0;31mValueError\u001b[0m                                Traceback (most recent call last)",
      "Cell \u001b[0;32mIn [107], line 1\u001b[0m\n\u001b[0;32m----> 1\u001b[0m \u001b[43mdata\u001b[49m\u001b[38;5;241;43m.\u001b[39;49m\u001b[43mfollowers\u001b[49m\u001b[38;5;241;43m.\u001b[39;49m\u001b[43mapply\u001b[49m\u001b[43m(\u001b[49m\u001b[43mclean_followers\u001b[49m\u001b[43m)\u001b[49m\u001b[38;5;241;43m.\u001b[39;49m\u001b[43mastype\u001b[49m\u001b[43m(\u001b[49m\u001b[38;5;28;43mfloat\u001b[39;49m\u001b[43m)\u001b[49m\n",
      "File \u001b[0;32m~/Desktop/projects/datapack/.venv/lib/python3.10/site-packages/pandas/core/generic.py:6240\u001b[0m, in \u001b[0;36mNDFrame.astype\u001b[0;34m(self, dtype, copy, errors)\u001b[0m\n\u001b[1;32m   6233\u001b[0m     results \u001b[38;5;241m=\u001b[39m [\n\u001b[1;32m   6234\u001b[0m         \u001b[38;5;28mself\u001b[39m\u001b[38;5;241m.\u001b[39miloc[:, i]\u001b[38;5;241m.\u001b[39mastype(dtype, copy\u001b[38;5;241m=\u001b[39mcopy)\n\u001b[1;32m   6235\u001b[0m         \u001b[38;5;28;01mfor\u001b[39;00m i \u001b[38;5;129;01min\u001b[39;00m \u001b[38;5;28mrange\u001b[39m(\u001b[38;5;28mlen\u001b[39m(\u001b[38;5;28mself\u001b[39m\u001b[38;5;241m.\u001b[39mcolumns))\n\u001b[1;32m   6236\u001b[0m     ]\n\u001b[1;32m   6238\u001b[0m \u001b[38;5;28;01melse\u001b[39;00m:\n\u001b[1;32m   6239\u001b[0m     \u001b[38;5;66;03m# else, only a single dtype is given\u001b[39;00m\n\u001b[0;32m-> 6240\u001b[0m     new_data \u001b[38;5;241m=\u001b[39m \u001b[38;5;28;43mself\u001b[39;49m\u001b[38;5;241;43m.\u001b[39;49m\u001b[43m_mgr\u001b[49m\u001b[38;5;241;43m.\u001b[39;49m\u001b[43mastype\u001b[49m\u001b[43m(\u001b[49m\u001b[43mdtype\u001b[49m\u001b[38;5;241;43m=\u001b[39;49m\u001b[43mdtype\u001b[49m\u001b[43m,\u001b[49m\u001b[43m \u001b[49m\u001b[43mcopy\u001b[49m\u001b[38;5;241;43m=\u001b[39;49m\u001b[43mcopy\u001b[49m\u001b[43m,\u001b[49m\u001b[43m \u001b[49m\u001b[43merrors\u001b[49m\u001b[38;5;241;43m=\u001b[39;49m\u001b[43merrors\u001b[49m\u001b[43m)\u001b[49m\n\u001b[1;32m   6241\u001b[0m     \u001b[38;5;28;01mreturn\u001b[39;00m \u001b[38;5;28mself\u001b[39m\u001b[38;5;241m.\u001b[39m_constructor(new_data)\u001b[38;5;241m.\u001b[39m__finalize__(\u001b[38;5;28mself\u001b[39m, method\u001b[38;5;241m=\u001b[39m\u001b[38;5;124m\"\u001b[39m\u001b[38;5;124mastype\u001b[39m\u001b[38;5;124m\"\u001b[39m)\n\u001b[1;32m   6243\u001b[0m \u001b[38;5;66;03m# GH 33113: handle empty frame or series\u001b[39;00m\n",
      "File \u001b[0;32m~/Desktop/projects/datapack/.venv/lib/python3.10/site-packages/pandas/core/internals/managers.py:445\u001b[0m, in \u001b[0;36mBaseBlockManager.astype\u001b[0;34m(self, dtype, copy, errors)\u001b[0m\n\u001b[1;32m    444\u001b[0m \u001b[38;5;28;01mdef\u001b[39;00m \u001b[38;5;21mastype\u001b[39m(\u001b[38;5;28mself\u001b[39m: T, dtype, copy: \u001b[38;5;28mbool\u001b[39m \u001b[38;5;241m=\u001b[39m \u001b[38;5;28;01mFalse\u001b[39;00m, errors: \u001b[38;5;28mstr\u001b[39m \u001b[38;5;241m=\u001b[39m \u001b[38;5;124m\"\u001b[39m\u001b[38;5;124mraise\u001b[39m\u001b[38;5;124m\"\u001b[39m) \u001b[38;5;241m-\u001b[39m\u001b[38;5;241m>\u001b[39m T:\n\u001b[0;32m--> 445\u001b[0m     \u001b[38;5;28;01mreturn\u001b[39;00m \u001b[38;5;28;43mself\u001b[39;49m\u001b[38;5;241;43m.\u001b[39;49m\u001b[43mapply\u001b[49m\u001b[43m(\u001b[49m\u001b[38;5;124;43m\"\u001b[39;49m\u001b[38;5;124;43mastype\u001b[39;49m\u001b[38;5;124;43m\"\u001b[39;49m\u001b[43m,\u001b[49m\u001b[43m \u001b[49m\u001b[43mdtype\u001b[49m\u001b[38;5;241;43m=\u001b[39;49m\u001b[43mdtype\u001b[49m\u001b[43m,\u001b[49m\u001b[43m \u001b[49m\u001b[43mcopy\u001b[49m\u001b[38;5;241;43m=\u001b[39;49m\u001b[43mcopy\u001b[49m\u001b[43m,\u001b[49m\u001b[43m \u001b[49m\u001b[43merrors\u001b[49m\u001b[38;5;241;43m=\u001b[39;49m\u001b[43merrors\u001b[49m\u001b[43m)\u001b[49m\n",
      "File \u001b[0;32m~/Desktop/projects/datapack/.venv/lib/python3.10/site-packages/pandas/core/internals/managers.py:347\u001b[0m, in \u001b[0;36mBaseBlockManager.apply\u001b[0;34m(self, f, align_keys, ignore_failures, **kwargs)\u001b[0m\n\u001b[1;32m    345\u001b[0m         applied \u001b[38;5;241m=\u001b[39m b\u001b[38;5;241m.\u001b[39mapply(f, \u001b[38;5;241m*\u001b[39m\u001b[38;5;241m*\u001b[39mkwargs)\n\u001b[1;32m    346\u001b[0m     \u001b[38;5;28;01melse\u001b[39;00m:\n\u001b[0;32m--> 347\u001b[0m         applied \u001b[38;5;241m=\u001b[39m \u001b[38;5;28;43mgetattr\u001b[39;49m\u001b[43m(\u001b[49m\u001b[43mb\u001b[49m\u001b[43m,\u001b[49m\u001b[43m \u001b[49m\u001b[43mf\u001b[49m\u001b[43m)\u001b[49m\u001b[43m(\u001b[49m\u001b[38;5;241;43m*\u001b[39;49m\u001b[38;5;241;43m*\u001b[39;49m\u001b[43mkwargs\u001b[49m\u001b[43m)\u001b[49m\n\u001b[1;32m    348\u001b[0m \u001b[38;5;28;01mexcept\u001b[39;00m (\u001b[38;5;167;01mTypeError\u001b[39;00m, \u001b[38;5;167;01mNotImplementedError\u001b[39;00m):\n\u001b[1;32m    349\u001b[0m     \u001b[38;5;28;01mif\u001b[39;00m \u001b[38;5;129;01mnot\u001b[39;00m ignore_failures:\n",
      "File \u001b[0;32m~/Desktop/projects/datapack/.venv/lib/python3.10/site-packages/pandas/core/internals/blocks.py:526\u001b[0m, in \u001b[0;36mBlock.astype\u001b[0;34m(self, dtype, copy, errors)\u001b[0m\n\u001b[1;32m    508\u001b[0m \u001b[38;5;124;03m\"\"\"\u001b[39;00m\n\u001b[1;32m    509\u001b[0m \u001b[38;5;124;03mCoerce to the new dtype.\u001b[39;00m\n\u001b[1;32m    510\u001b[0m \n\u001b[0;32m   (...)\u001b[0m\n\u001b[1;32m    522\u001b[0m \u001b[38;5;124;03mBlock\u001b[39;00m\n\u001b[1;32m    523\u001b[0m \u001b[38;5;124;03m\"\"\"\u001b[39;00m\n\u001b[1;32m    524\u001b[0m values \u001b[38;5;241m=\u001b[39m \u001b[38;5;28mself\u001b[39m\u001b[38;5;241m.\u001b[39mvalues\n\u001b[0;32m--> 526\u001b[0m new_values \u001b[38;5;241m=\u001b[39m \u001b[43mastype_array_safe\u001b[49m\u001b[43m(\u001b[49m\u001b[43mvalues\u001b[49m\u001b[43m,\u001b[49m\u001b[43m \u001b[49m\u001b[43mdtype\u001b[49m\u001b[43m,\u001b[49m\u001b[43m \u001b[49m\u001b[43mcopy\u001b[49m\u001b[38;5;241;43m=\u001b[39;49m\u001b[43mcopy\u001b[49m\u001b[43m,\u001b[49m\u001b[43m \u001b[49m\u001b[43merrors\u001b[49m\u001b[38;5;241;43m=\u001b[39;49m\u001b[43merrors\u001b[49m\u001b[43m)\u001b[49m\n\u001b[1;32m    528\u001b[0m new_values \u001b[38;5;241m=\u001b[39m maybe_coerce_values(new_values)\n\u001b[1;32m    529\u001b[0m newb \u001b[38;5;241m=\u001b[39m \u001b[38;5;28mself\u001b[39m\u001b[38;5;241m.\u001b[39mmake_block(new_values)\n",
      "File \u001b[0;32m~/Desktop/projects/datapack/.venv/lib/python3.10/site-packages/pandas/core/dtypes/astype.py:299\u001b[0m, in \u001b[0;36mastype_array_safe\u001b[0;34m(values, dtype, copy, errors)\u001b[0m\n\u001b[1;32m    296\u001b[0m     \u001b[38;5;28;01mreturn\u001b[39;00m values\u001b[38;5;241m.\u001b[39mcopy()\n\u001b[1;32m    298\u001b[0m \u001b[38;5;28;01mtry\u001b[39;00m:\n\u001b[0;32m--> 299\u001b[0m     new_values \u001b[38;5;241m=\u001b[39m \u001b[43mastype_array\u001b[49m\u001b[43m(\u001b[49m\u001b[43mvalues\u001b[49m\u001b[43m,\u001b[49m\u001b[43m \u001b[49m\u001b[43mdtype\u001b[49m\u001b[43m,\u001b[49m\u001b[43m \u001b[49m\u001b[43mcopy\u001b[49m\u001b[38;5;241;43m=\u001b[39;49m\u001b[43mcopy\u001b[49m\u001b[43m)\u001b[49m\n\u001b[1;32m    300\u001b[0m \u001b[38;5;28;01mexcept\u001b[39;00m (\u001b[38;5;167;01mValueError\u001b[39;00m, \u001b[38;5;167;01mTypeError\u001b[39;00m):\n\u001b[1;32m    301\u001b[0m     \u001b[38;5;66;03m# e.g. astype_nansafe can fail on object-dtype of strings\u001b[39;00m\n\u001b[1;32m    302\u001b[0m     \u001b[38;5;66;03m#  trying to convert to float\u001b[39;00m\n\u001b[1;32m    303\u001b[0m     \u001b[38;5;28;01mif\u001b[39;00m errors \u001b[38;5;241m==\u001b[39m \u001b[38;5;124m\"\u001b[39m\u001b[38;5;124mignore\u001b[39m\u001b[38;5;124m\"\u001b[39m:\n",
      "File \u001b[0;32m~/Desktop/projects/datapack/.venv/lib/python3.10/site-packages/pandas/core/dtypes/astype.py:230\u001b[0m, in \u001b[0;36mastype_array\u001b[0;34m(values, dtype, copy)\u001b[0m\n\u001b[1;32m    227\u001b[0m     values \u001b[38;5;241m=\u001b[39m values\u001b[38;5;241m.\u001b[39mastype(dtype, copy\u001b[38;5;241m=\u001b[39mcopy)\n\u001b[1;32m    229\u001b[0m \u001b[38;5;28;01melse\u001b[39;00m:\n\u001b[0;32m--> 230\u001b[0m     values \u001b[38;5;241m=\u001b[39m \u001b[43mastype_nansafe\u001b[49m\u001b[43m(\u001b[49m\u001b[43mvalues\u001b[49m\u001b[43m,\u001b[49m\u001b[43m \u001b[49m\u001b[43mdtype\u001b[49m\u001b[43m,\u001b[49m\u001b[43m \u001b[49m\u001b[43mcopy\u001b[49m\u001b[38;5;241;43m=\u001b[39;49m\u001b[43mcopy\u001b[49m\u001b[43m)\u001b[49m\n\u001b[1;32m    232\u001b[0m \u001b[38;5;66;03m# in pandas we don't store numpy str dtypes, so convert to object\u001b[39;00m\n\u001b[1;32m    233\u001b[0m \u001b[38;5;28;01mif\u001b[39;00m \u001b[38;5;28misinstance\u001b[39m(dtype, np\u001b[38;5;241m.\u001b[39mdtype) \u001b[38;5;129;01mand\u001b[39;00m \u001b[38;5;28missubclass\u001b[39m(values\u001b[38;5;241m.\u001b[39mdtype\u001b[38;5;241m.\u001b[39mtype, \u001b[38;5;28mstr\u001b[39m):\n",
      "File \u001b[0;32m~/Desktop/projects/datapack/.venv/lib/python3.10/site-packages/pandas/core/dtypes/astype.py:170\u001b[0m, in \u001b[0;36mastype_nansafe\u001b[0;34m(arr, dtype, copy, skipna)\u001b[0m\n\u001b[1;32m    166\u001b[0m     \u001b[38;5;28;01mraise\u001b[39;00m \u001b[38;5;167;01mValueError\u001b[39;00m(msg)\n\u001b[1;32m    168\u001b[0m \u001b[38;5;28;01mif\u001b[39;00m copy \u001b[38;5;129;01mor\u001b[39;00m is_object_dtype(arr\u001b[38;5;241m.\u001b[39mdtype) \u001b[38;5;129;01mor\u001b[39;00m is_object_dtype(dtype):\n\u001b[1;32m    169\u001b[0m     \u001b[38;5;66;03m# Explicit copy, or required since NumPy can't view from / to object.\u001b[39;00m\n\u001b[0;32m--> 170\u001b[0m     \u001b[38;5;28;01mreturn\u001b[39;00m \u001b[43marr\u001b[49m\u001b[38;5;241;43m.\u001b[39;49m\u001b[43mastype\u001b[49m\u001b[43m(\u001b[49m\u001b[43mdtype\u001b[49m\u001b[43m,\u001b[49m\u001b[43m \u001b[49m\u001b[43mcopy\u001b[49m\u001b[38;5;241;43m=\u001b[39;49m\u001b[38;5;28;43;01mTrue\u001b[39;49;00m\u001b[43m)\u001b[49m\n\u001b[1;32m    172\u001b[0m \u001b[38;5;28;01mreturn\u001b[39;00m arr\u001b[38;5;241m.\u001b[39mastype(dtype, copy\u001b[38;5;241m=\u001b[39mcopy)\n",
      "\u001b[0;31mValueError\u001b[0m: could not convert string to float: '1.0M'"
     ]
    }
   ],
   "source": [
    "data.followers.apply(clean_followers).astype(float)"
   ]
  },
  {
   "cell_type": "code",
   "execution_count": null,
   "id": "6307094b",
   "metadata": {},
   "outputs": [],
   "source": []
  },
  {
   "cell_type": "code",
   "execution_count": null,
   "id": "c73eadfe",
   "metadata": {},
   "outputs": [],
   "source": []
  },
  {
   "cell_type": "code",
   "execution_count": null,
   "id": "c8d81b9b",
   "metadata": {},
   "outputs": [],
   "source": [
    "import numpy as np\n",
    "from sklearn.metrics import pairwise_distances\n",
    "from sklearn.metrics.pairwise import pairwise_kernels,PAIRWISE_KERNEL_FUNCTIONS\n",
    "X = np.array([[2, 3], [3, 5], [5, 8]])\n",
    "\n",
    "Y = np.array([[1, 0], [2, 1]])\n",
    "\n",
    "pairwise_distances(X, Y, metric='manhattan')\n",
    "\n",
    "pairwise_distances(X, metric='manhattan')\n",
    "\n",
    "pairwise_kernels(X, Y, metric='linear')"
   ]
  },
  {
   "cell_type": "code",
   "execution_count": 6,
   "id": "c3c6a4f4",
   "metadata": {},
   "outputs": [
    {
     "ename": "NameError",
     "evalue": "name 'np' is not defined",
     "output_type": "error",
     "traceback": [
      "\u001b[0;31m---------------------------------------------------------------------------\u001b[0m",
      "\u001b[0;31mNameError\u001b[0m                                 Traceback (most recent call last)",
      "Cell \u001b[0;32mIn [6], line 1\u001b[0m\n\u001b[0;32m----> 1\u001b[0m X \u001b[38;5;241m=\u001b[39m \u001b[43mnp\u001b[49m\u001b[38;5;241m.\u001b[39marray([[\u001b[38;5;241m1\u001b[39m, \u001b[38;5;241m1\u001b[39m, \u001b[38;5;241m1\u001b[39m], [\u001b[38;5;241m2\u001b[39m, \u001b[38;5;241m1\u001b[39m, \u001b[38;5;241m2\u001b[39m], [\u001b[38;5;241m3\u001b[39m, \u001b[38;5;241m3\u001b[39m, \u001b[38;5;241m3\u001b[39m], [\u001b[38;5;241m2\u001b[39m, \u001b[38;5;241m4\u001b[39m, \u001b[38;5;241m2\u001b[39m]])\n\u001b[1;32m      3\u001b[0m Y \u001b[38;5;241m=\u001b[39m np\u001b[38;5;241m.\u001b[39marray([[\u001b[38;5;241m1\u001b[39m, \u001b[38;5;241m2\u001b[39m, \u001b[38;5;241m1\u001b[39m]])\n\u001b[1;32m      4\u001b[0m sim \u001b[38;5;241m=\u001b[39m pairwise_distances(X, Y, metric\u001b[38;5;241m=\u001b[39m\u001b[38;5;124m'\u001b[39m\u001b[38;5;124mcosine\u001b[39m\u001b[38;5;124m'\u001b[39m)\n",
      "\u001b[0;31mNameError\u001b[0m: name 'np' is not defined"
     ]
    }
   ],
   "source": [
    "\n",
    "\n",
    "X = np.array([[1, 1, 1], [2, 1, 2], [3, 3, 3], [2, 4, 2]])\n",
    "\n",
    "Y = np.array([[1, 2, 1]])\n",
    "sim = pairwise_distances(X, Y, metric='cosine')\n",
    "\n",
    "ranked = sorted([(i, x[0]) for i, x in enumerate(sim)], reverse=True, key=lambda x: x[1])\n",
    "\n",
    "idx = [x[0] for x in ranked[:3]]\n",
    "\n",
    "X[idx]\n"
   ]
  },
  {
   "cell_type": "code",
   "execution_count": null,
   "id": "995348cd",
   "metadata": {},
   "outputs": [],
   "source": [
    " "
   ]
  },
  {
   "cell_type": "code",
   "execution_count": null,
   "id": "7885b50e",
   "metadata": {},
   "outputs": [],
   "source": []
  },
  {
   "cell_type": "code",
   "execution_count": null,
   "id": "6dce5d94",
   "metadata": {},
   "outputs": [],
   "source": []
  },
  {
   "cell_type": "code",
   "execution_count": null,
   "id": "c3ee263a",
   "metadata": {},
   "outputs": [],
   "source": []
  },
  {
   "cell_type": "code",
   "execution_count": null,
   "id": "33c2c6d3",
   "metadata": {},
   "outputs": [],
   "source": []
  },
  {
   "cell_type": "code",
   "execution_count": null,
   "id": "ba65005f",
   "metadata": {},
   "outputs": [],
   "source": []
  },
  {
   "cell_type": "code",
   "execution_count": null,
   "id": "6a3e715b",
   "metadata": {},
   "outputs": [],
   "source": []
  },
  {
   "cell_type": "code",
   "execution_count": null,
   "id": "ddf02de7",
   "metadata": {},
   "outputs": [],
   "source": []
  },
  {
   "cell_type": "code",
   "execution_count": null,
   "id": "754c6449",
   "metadata": {},
   "outputs": [],
   "source": []
  }
 ],
 "metadata": {
  "kernelspec": {
   "display_name": "Python 3 (ipykernel)",
   "language": "python",
   "name": "python3"
  },
  "language_info": {
   "codemirror_mode": {
    "name": "ipython",
    "version": 3
   },
   "file_extension": ".py",
   "mimetype": "text/x-python",
   "name": "python",
   "nbconvert_exporter": "python",
   "pygments_lexer": "ipython3",
   "version": "3.10.6"
  }
 },
 "nbformat": 4,
 "nbformat_minor": 5
}
