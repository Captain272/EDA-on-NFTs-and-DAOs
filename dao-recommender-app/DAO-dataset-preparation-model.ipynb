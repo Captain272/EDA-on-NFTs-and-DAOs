{
 "cells": [
  {
   "cell_type": "code",
   "execution_count": 1,
   "id": "1a55d7ce",
   "metadata": {},
   "outputs": [],
   "source": [
    "import pandas as pd\n",
    "import ast\n",
    "from sklearn.preprocessing import MultiLabelBinarizer\n",
    "from sklearn.metrics import pairwise_distances\n",
    "import numpy as np\n",
    "from sklearn.neighbors import NearestNeighbors\n",
    "from sklearn.feature_extraction.text import TfidfVectorizer\n",
    "from gensim.utils import simple_preprocess\n"
   ]
  },
  {
   "cell_type": "code",
   "execution_count": 2,
   "id": "f099dc60",
   "metadata": {},
   "outputs": [],
   "source": [
    "dao = pd.read_csv(\"data/DAOs_DATA.txt\")"
   ]
  },
  {
   "cell_type": "markdown",
   "id": "cd2f818a",
   "metadata": {},
   "source": [
    "# Preprocessing"
   ]
  },
  {
   "cell_type": "code",
   "execution_count": 3,
   "id": "5478ca0f",
   "metadata": {},
   "outputs": [],
   "source": [
    "data = dao.drop('Unnamed: 0',axis=1)\n",
    "\n",
    "data.Dao_title = data.Dao_title.str.replace('DAOHQ - ','').str.lower()\n",
    "\n",
    "data.categories = data.categories.apply(lambda x: ast.literal_eval(x))\n",
    "\n",
    "\n",
    "categories = [\"Collector\",\"DAO Tools\",\"DeFi\",\"Entertainment\",\"Gaming\",\"Grant\",\"Investment\",\"Media\",\n",
    "              \"Metaverse\",\"Operating Systems\",\"Protocol\",\"SPAD\"\"Service\",\"Social\",\"Social Impact\",\n",
    "              \"Venture Capital\"]\n",
    "\n",
    "def category_replace(x):\n",
    "    for i, cat in enumerate(x):\n",
    "        if cat not in categories:\n",
    "            x[i] = \"other\"\n",
    "    return x\n",
    "\n",
    "data.categories = data.categories.apply(category_replace)"
   ]
  },
  {
   "cell_type": "code",
   "execution_count": 4,
   "id": "c32feea5",
   "metadata": {},
   "outputs": [],
   "source": [
    "data.chain = data.chain.apply(lambda x: ast.literal_eval(x))\n",
    "\n",
    "data['blockchain'] = data.chain.apply(lambda x: x[0] if len(x)==2 else None)\n",
    "data['followers'] = data.chain.apply(lambda x: x[1] if len(x)==2 else None)\n",
    "\n",
    "def clean_followers(x):\n",
    "    if x:\n",
    "        if 'M' in x:\n",
    "            return float(x.replace('M',''))*1000000\n",
    "        elif 'K'in x:\n",
    "            return float(x.replace('K',''))*1000\n",
    "    return 0.\n",
    "\n",
    "data['followers'] = data.followers.apply(clean_followers)"
   ]
  },
  {
   "cell_type": "code",
   "execution_count": 5,
   "id": "685821cb",
   "metadata": {},
   "outputs": [],
   "source": [
    "data.drop(['simdaos','chain'], axis=1, inplace=True)\n",
    "\n",
    "\n",
    "data['about'] = data.about.apply(lambda x: \" \".join(simple_preprocess(x)))\n",
    "data.blockchain.fillna(\"other\", inplace=True)\n",
    "data['blockchain'] = data.blockchain.str.lower()"
   ]
  },
  {
   "cell_type": "code",
   "execution_count": 6,
   "id": "53c0ff73",
   "metadata": {},
   "outputs": [
    {
     "data": {
      "text/plain": [
       "Dao_title     0\n",
       "categories    0\n",
       "about         0\n",
       "blockchain    0\n",
       "followers     0\n",
       "dtype: int64"
      ]
     },
     "execution_count": 6,
     "metadata": {},
     "output_type": "execute_result"
    }
   ],
   "source": [
    "data.isna().sum()"
   ]
  },
  {
   "cell_type": "code",
   "execution_count": 26,
   "id": "e47fd314",
   "metadata": {},
   "outputs": [],
   "source": [
    "data.followers = data.followers.astype(int)"
   ]
  },
  {
   "cell_type": "code",
   "execution_count": 27,
   "id": "79322204",
   "metadata": {},
   "outputs": [],
   "source": [
    "data.to_csv(\"dao_cleaned_data.csv\",  index=False)"
   ]
  },
  {
   "cell_type": "code",
   "execution_count": 22,
   "id": "cf4ad411",
   "metadata": {},
   "outputs": [
    {
     "data": {
      "text/plain": [
       "Index(['Dao_title', 'categories', 'about', 'blockchain', 'followers'], dtype='object')"
      ]
     },
     "execution_count": 22,
     "metadata": {},
     "output_type": "execute_result"
    }
   ],
   "source": [
    "data.columns"
   ]
  },
  {
   "cell_type": "code",
   "execution_count": 8,
   "id": "3675cee0",
   "metadata": {},
   "outputs": [
    {
     "data": {
      "text/html": [
       "<div>\n",
       "<style scoped>\n",
       "    .dataframe tbody tr th:only-of-type {\n",
       "        vertical-align: middle;\n",
       "    }\n",
       "\n",
       "    .dataframe tbody tr th {\n",
       "        vertical-align: top;\n",
       "    }\n",
       "\n",
       "    .dataframe thead th {\n",
       "        text-align: right;\n",
       "    }\n",
       "</style>\n",
       "<table border=\"1\" class=\"dataframe\">\n",
       "  <thead>\n",
       "    <tr style=\"text-align: right;\">\n",
       "      <th></th>\n",
       "      <th>Dao_title</th>\n",
       "      <th>categories</th>\n",
       "      <th>about</th>\n",
       "      <th>blockchain</th>\n",
       "      <th>followers</th>\n",
       "    </tr>\n",
       "  </thead>\n",
       "  <tbody>\n",
       "    <tr>\n",
       "      <th>0</th>\n",
       "      <td>yog8 dao</td>\n",
       "      <td>[Social Impact]</td>\n",
       "      <td>yog dao encourages wellness in web by offering...</td>\n",
       "      <td>ethereum</td>\n",
       "      <td>0.0</td>\n",
       "    </tr>\n",
       "    <tr>\n",
       "      <th>1</th>\n",
       "      <td>lit protocol dao</td>\n",
       "      <td>[DAO Tools, Protocol]</td>\n",
       "      <td>decentralized access control infrastructure de...</td>\n",
       "      <td>ethereum</td>\n",
       "      <td>20600.0</td>\n",
       "    </tr>\n",
       "    <tr>\n",
       "      <th>2</th>\n",
       "      <td>minmax dao</td>\n",
       "      <td>[Investment]</td>\n",
       "      <td>the iotex native cross chain pegged assets amm...</td>\n",
       "      <td>ethereum</td>\n",
       "      <td>0.0</td>\n",
       "    </tr>\n",
       "    <tr>\n",
       "      <th>3</th>\n",
       "      <td>blockade games dao</td>\n",
       "      <td>[DAO Tools, Gaming]</td>\n",
       "      <td>leading blockchain video game development studio</td>\n",
       "      <td>ethereum</td>\n",
       "      <td>13100.0</td>\n",
       "    </tr>\n",
       "    <tr>\n",
       "      <th>4</th>\n",
       "      <td>the lao dao</td>\n",
       "      <td>[other, other]</td>\n",
       "      <td>the lao is limited liability for profit dao th...</td>\n",
       "      <td>other</td>\n",
       "      <td>0.0</td>\n",
       "    </tr>\n",
       "  </tbody>\n",
       "</table>\n",
       "</div>"
      ],
      "text/plain": [
       "            Dao_title             categories  \\\n",
       "0            yog8 dao        [Social Impact]   \n",
       "1    lit protocol dao  [DAO Tools, Protocol]   \n",
       "2          minmax dao           [Investment]   \n",
       "3  blockade games dao    [DAO Tools, Gaming]   \n",
       "4         the lao dao         [other, other]   \n",
       "\n",
       "                                               about blockchain  followers  \n",
       "0  yog dao encourages wellness in web by offering...   ethereum        0.0  \n",
       "1  decentralized access control infrastructure de...   ethereum    20600.0  \n",
       "2  the iotex native cross chain pegged assets amm...   ethereum        0.0  \n",
       "3   leading blockchain video game development studio   ethereum    13100.0  \n",
       "4  the lao is limited liability for profit dao th...      other        0.0  "
      ]
     },
     "execution_count": 8,
     "metadata": {},
     "output_type": "execute_result"
    }
   ],
   "source": [
    "data.head()"
   ]
  },
  {
   "cell_type": "code",
   "execution_count": 9,
   "id": "4ea66ef8",
   "metadata": {},
   "outputs": [],
   "source": [
    "dao_cat = data.categories.apply(lambda x: \" \".join([ele.replace(\" \",\"_\").lower() for ele in x]))\n",
    "dao_sentences = data.blockchain + \" \" + data.about + \" \" + dao_cat"
   ]
  },
  {
   "cell_type": "code",
   "execution_count": 10,
   "id": "bb425548",
   "metadata": {},
   "outputs": [
    {
     "data": {
      "text/plain": [
       "0"
      ]
     },
     "execution_count": 10,
     "metadata": {},
     "output_type": "execute_result"
    }
   ],
   "source": [
    "dao_sentences.isna().sum()"
   ]
  },
  {
   "cell_type": "code",
   "execution_count": 11,
   "id": "d9b016b3",
   "metadata": {},
   "outputs": [],
   "source": [
    "users = pd.read_csv(\"user_dummy_data.csv\")"
   ]
  },
  {
   "cell_type": "code",
   "execution_count": 12,
   "id": "73d7a74e",
   "metadata": {},
   "outputs": [
    {
     "data": {
      "text/html": [
       "<div>\n",
       "<style scoped>\n",
       "    .dataframe tbody tr th:only-of-type {\n",
       "        vertical-align: middle;\n",
       "    }\n",
       "\n",
       "    .dataframe tbody tr th {\n",
       "        vertical-align: top;\n",
       "    }\n",
       "\n",
       "    .dataframe thead th {\n",
       "        text-align: right;\n",
       "    }\n",
       "</style>\n",
       "<table border=\"1\" class=\"dataframe\">\n",
       "  <thead>\n",
       "    <tr style=\"text-align: right;\">\n",
       "      <th></th>\n",
       "      <th>age</th>\n",
       "      <th>gender</th>\n",
       "      <th>country</th>\n",
       "      <th>city</th>\n",
       "      <th>income</th>\n",
       "      <th>blockchains</th>\n",
       "      <th>category</th>\n",
       "      <th>choice</th>\n",
       "    </tr>\n",
       "  </thead>\n",
       "  <tbody>\n",
       "    <tr>\n",
       "      <th>0</th>\n",
       "      <td>21</td>\n",
       "      <td>female</td>\n",
       "      <td>India</td>\n",
       "      <td>Bangalore</td>\n",
       "      <td>35000</td>\n",
       "      <td>[]</td>\n",
       "      <td>['music', 'sports', 'books', 'travel', 'finance']</td>\n",
       "      <td>music techno sports badminton cricket books m...</td>\n",
       "    </tr>\n",
       "    <tr>\n",
       "      <th>1</th>\n",
       "      <td>62</td>\n",
       "      <td>male</td>\n",
       "      <td>US</td>\n",
       "      <td>Philadelphia</td>\n",
       "      <td>95000</td>\n",
       "      <td>['Ripple']</td>\n",
       "      <td>['sports', 'travel', 'finance']</td>\n",
       "      <td>sports table_tennis basketball cricket travel...</td>\n",
       "    </tr>\n",
       "    <tr>\n",
       "      <th>2</th>\n",
       "      <td>47</td>\n",
       "      <td>female</td>\n",
       "      <td>UK</td>\n",
       "      <td>Newcastle</td>\n",
       "      <td>100000</td>\n",
       "      <td>['Ripple', 'Binance Smart Chain', 'Ethereum']</td>\n",
       "      <td>['music', 'sports', 'books', 'travel', 'finance']</td>\n",
       "      <td>music techno pop sports table_tennis books my...</td>\n",
       "    </tr>\n",
       "    <tr>\n",
       "      <th>3</th>\n",
       "      <td>61</td>\n",
       "      <td>female</td>\n",
       "      <td>US</td>\n",
       "      <td>San Antonio</td>\n",
       "      <td>115000</td>\n",
       "      <td>['Ripple', 'Ethereum', 'Binance Smart Chain']</td>\n",
       "      <td>['music', 'books', 'travel', 'finance']</td>\n",
       "      <td>music country books science_fiction romance t...</td>\n",
       "    </tr>\n",
       "    <tr>\n",
       "      <th>4</th>\n",
       "      <td>43</td>\n",
       "      <td>female</td>\n",
       "      <td>US</td>\n",
       "      <td>Dallas</td>\n",
       "      <td>65000</td>\n",
       "      <td>['Binance Smart Chain', 'Flow']</td>\n",
       "      <td>['music', 'sports', 'books', 'travel']</td>\n",
       "      <td>music rhythmandblues(r&amp;b) country pop sports ...</td>\n",
       "    </tr>\n",
       "  </tbody>\n",
       "</table>\n",
       "</div>"
      ],
      "text/plain": [
       "   age  gender country          city  income  \\\n",
       "0   21  female   India     Bangalore   35000   \n",
       "1   62    male      US  Philadelphia   95000   \n",
       "2   47  female      UK     Newcastle  100000   \n",
       "3   61  female      US   San Antonio  115000   \n",
       "4   43  female      US        Dallas   65000   \n",
       "\n",
       "                                     blockchains  \\\n",
       "0                                             []   \n",
       "1                                     ['Ripple']   \n",
       "2  ['Ripple', 'Binance Smart Chain', 'Ethereum']   \n",
       "3  ['Ripple', 'Ethereum', 'Binance Smart Chain']   \n",
       "4                ['Binance Smart Chain', 'Flow']   \n",
       "\n",
       "                                            category  \\\n",
       "0  ['music', 'sports', 'books', 'travel', 'finance']   \n",
       "1                    ['sports', 'travel', 'finance']   \n",
       "2  ['music', 'sports', 'books', 'travel', 'finance']   \n",
       "3            ['music', 'books', 'travel', 'finance']   \n",
       "4             ['music', 'sports', 'books', 'travel']   \n",
       "\n",
       "                                              choice  \n",
       "0   music techno sports badminton cricket books m...  \n",
       "1   sports table_tennis basketball cricket travel...  \n",
       "2   music techno pop sports table_tennis books my...  \n",
       "3   music country books science_fiction romance t...  \n",
       "4   music rhythmandblues(r&b) country pop sports ...  "
      ]
     },
     "execution_count": 12,
     "metadata": {},
     "output_type": "execute_result"
    }
   ],
   "source": [
    "users.head()"
   ]
  },
  {
   "cell_type": "code",
   "execution_count": 13,
   "id": "335f75b9",
   "metadata": {},
   "outputs": [],
   "source": [
    "users.blockchains = users.blockchains.apply(eval)"
   ]
  },
  {
   "cell_type": "code",
   "execution_count": 14,
   "id": "2655049a",
   "metadata": {},
   "outputs": [],
   "source": [
    "users_one = users.blockchains.apply(lambda x: \" \".join([ele.replace(\" \",\"_\").lower() for ele in x]))\n",
    "user_sentences = users.choice + \" \" + users_one"
   ]
  },
  {
   "cell_type": "code",
   "execution_count": 15,
   "id": "3c16b6c8",
   "metadata": {},
   "outputs": [],
   "source": [
    "all_sents = np.hstack([dao_sentences, user_sentences])"
   ]
  },
  {
   "cell_type": "code",
   "execution_count": 16,
   "id": "a47e988c",
   "metadata": {},
   "outputs": [
    {
     "name": "stdout",
     "output_type": "stream",
     "text": [
      "(1006, 4704)\n"
     ]
    }
   ],
   "source": [
    "def preprocessor(x):\n",
    "    return \" \".join(simple_preprocess(x))\n",
    "\n",
    "vectorizer = TfidfVectorizer(max_features=5000, preprocessor=preprocessor)\n",
    "_ = vectorizer.fit(all_sents)\n",
    "X= vectorizer.transform(dao_sentences)\n",
    "\n",
    "print(X.shape)\n"
   ]
  },
  {
   "cell_type": "code",
   "execution_count": 17,
   "id": "25be1254",
   "metadata": {},
   "outputs": [
    {
     "data": {
      "text/plain": [
       "4704"
      ]
     },
     "execution_count": 17,
     "metadata": {},
     "output_type": "execute_result"
    }
   ],
   "source": [
    "len(vectorizer.vocabulary_)"
   ]
  },
  {
   "cell_type": "code",
   "execution_count": 18,
   "id": "55b14283",
   "metadata": {},
   "outputs": [
    {
     "name": "stdout",
     "output_type": "stream",
     "text": [
      " music techno sports badminton cricket books mysteries romance thrillers travel the_gap_year the_package_holiday finance stock_market insurance mutual_funds  \n"
     ]
    },
    {
     "data": {
      "text/html": [
       "<div>\n",
       "<style scoped>\n",
       "    .dataframe tbody tr th:only-of-type {\n",
       "        vertical-align: middle;\n",
       "    }\n",
       "\n",
       "    .dataframe tbody tr th {\n",
       "        vertical-align: top;\n",
       "    }\n",
       "\n",
       "    .dataframe thead th {\n",
       "        text-align: right;\n",
       "    }\n",
       "</style>\n",
       "<table border=\"1\" class=\"dataframe\">\n",
       "  <thead>\n",
       "    <tr style=\"text-align: right;\">\n",
       "      <th></th>\n",
       "      <th>Dao_title</th>\n",
       "      <th>categories</th>\n",
       "      <th>about</th>\n",
       "      <th>blockchain</th>\n",
       "      <th>followers</th>\n",
       "    </tr>\n",
       "  </thead>\n",
       "  <tbody>\n",
       "    <tr>\n",
       "      <th>0</th>\n",
       "      <td>yog8 dao</td>\n",
       "      <td>[Social Impact]</td>\n",
       "      <td>yog dao encourages wellness in web by offering...</td>\n",
       "      <td>ethereum</td>\n",
       "      <td>0.0</td>\n",
       "    </tr>\n",
       "    <tr>\n",
       "      <th>664</th>\n",
       "      <td>8dao</td>\n",
       "      <td>[Social, Investment]</td>\n",
       "      <td>our mission is to connect like minded individu...</td>\n",
       "      <td>other</td>\n",
       "      <td>0.0</td>\n",
       "    </tr>\n",
       "    <tr>\n",
       "      <th>84</th>\n",
       "      <td>social impact dao llc dao</td>\n",
       "      <td>[Social Impact]</td>\n",
       "      <td>to empower communities through disrupting and ...</td>\n",
       "      <td>other</td>\n",
       "      <td>0.0</td>\n",
       "    </tr>\n",
       "    <tr>\n",
       "      <th>105</th>\n",
       "      <td>wagmisaurus dao</td>\n",
       "      <td>[Collector, Media]</td>\n",
       "      <td>the wagmisaurus project was created with one g...</td>\n",
       "      <td>other</td>\n",
       "      <td>0.0</td>\n",
       "    </tr>\n",
       "    <tr>\n",
       "      <th>30</th>\n",
       "      <td>blu3 dao</td>\n",
       "      <td>[Social, Social Impact]</td>\n",
       "      <td>empowering women nonbinary and allies to learn...</td>\n",
       "      <td>other</td>\n",
       "      <td>0.0</td>\n",
       "    </tr>\n",
       "  </tbody>\n",
       "</table>\n",
       "</div>"
      ],
      "text/plain": [
       "                     Dao_title               categories  \\\n",
       "0                     yog8 dao          [Social Impact]   \n",
       "664                       8dao     [Social, Investment]   \n",
       "84   social impact dao llc dao          [Social Impact]   \n",
       "105            wagmisaurus dao       [Collector, Media]   \n",
       "30                    blu3 dao  [Social, Social Impact]   \n",
       "\n",
       "                                                 about blockchain  followers  \n",
       "0    yog dao encourages wellness in web by offering...   ethereum        0.0  \n",
       "664  our mission is to connect like minded individu...      other        0.0  \n",
       "84   to empower communities through disrupting and ...      other        0.0  \n",
       "105  the wagmisaurus project was created with one g...      other        0.0  \n",
       "30   empowering women nonbinary and allies to learn...      other        0.0  "
      ]
     },
     "execution_count": 18,
     "metadata": {},
     "output_type": "execute_result"
    }
   ],
   "source": [
    "knn = NearestNeighbors(n_neighbors=5, metric='cosine')\n",
    "knn.fit(X)\n",
    "\n",
    "_, idx = knn.kneighbors(X[0].toarray())\n",
    "print(user_sentences[0])\n",
    "\n",
    "data.iloc[idx[0]]"
   ]
  },
  {
   "cell_type": "code",
   "execution_count": 19,
   "id": "7885b50e",
   "metadata": {},
   "outputs": [
    {
     "name": "stdout",
     "output_type": "stream",
     "text": [
      " music techno pop sports table_tennis books mysteries science_fiction travel event_travel finance professional_advisory mutual_funds  ripple binance_smart_chain ethereum\n"
     ]
    },
    {
     "data": {
      "text/html": [
       "<div>\n",
       "<style scoped>\n",
       "    .dataframe tbody tr th:only-of-type {\n",
       "        vertical-align: middle;\n",
       "    }\n",
       "\n",
       "    .dataframe tbody tr th {\n",
       "        vertical-align: top;\n",
       "    }\n",
       "\n",
       "    .dataframe thead th {\n",
       "        text-align: right;\n",
       "    }\n",
       "</style>\n",
       "<table border=\"1\" class=\"dataframe\">\n",
       "  <thead>\n",
       "    <tr style=\"text-align: right;\">\n",
       "      <th></th>\n",
       "      <th>Dao_title</th>\n",
       "      <th>categories</th>\n",
       "      <th>about</th>\n",
       "      <th>blockchain</th>\n",
       "      <th>followers</th>\n",
       "    </tr>\n",
       "  </thead>\n",
       "  <tbody>\n",
       "    <tr>\n",
       "      <th>291</th>\n",
       "      <td>rainbow dao</td>\n",
       "      <td>[Protocol, DeFi]</td>\n",
       "      <td>ethereum wallet</td>\n",
       "      <td>ethereum</td>\n",
       "      <td>50100.0</td>\n",
       "    </tr>\n",
       "    <tr>\n",
       "      <th>313</th>\n",
       "      <td>unslashed finance dao</td>\n",
       "      <td>[Protocol, DeFi]</td>\n",
       "      <td>decentralized insurance protocol built on ethe...</td>\n",
       "      <td>ethereum</td>\n",
       "      <td>10300.0</td>\n",
       "    </tr>\n",
       "    <tr>\n",
       "      <th>524</th>\n",
       "      <td>request  dao</td>\n",
       "      <td>[DAO Tools, DeFi]</td>\n",
       "      <td>ethereum based decentralized payment system</td>\n",
       "      <td>ethereum</td>\n",
       "      <td>66700.0</td>\n",
       "    </tr>\n",
       "    <tr>\n",
       "      <th>23</th>\n",
       "      <td>polymath dao</td>\n",
       "      <td>[DAO Tools, DeFi]</td>\n",
       "      <td>decentralized protocol that operates on the et...</td>\n",
       "      <td>ethereum</td>\n",
       "      <td>76300.0</td>\n",
       "    </tr>\n",
       "    <tr>\n",
       "      <th>476</th>\n",
       "      <td>gnosis safe dao</td>\n",
       "      <td>[DAO Tools, DeFi]</td>\n",
       "      <td>platform to manage digital assets on ethereum</td>\n",
       "      <td>ethereum</td>\n",
       "      <td>56600.0</td>\n",
       "    </tr>\n",
       "  </tbody>\n",
       "</table>\n",
       "</div>"
      ],
      "text/plain": [
       "                 Dao_title         categories  \\\n",
       "291            rainbow dao   [Protocol, DeFi]   \n",
       "313  unslashed finance dao   [Protocol, DeFi]   \n",
       "524           request  dao  [DAO Tools, DeFi]   \n",
       "23            polymath dao  [DAO Tools, DeFi]   \n",
       "476        gnosis safe dao  [DAO Tools, DeFi]   \n",
       "\n",
       "                                                 about blockchain  followers  \n",
       "291                                    ethereum wallet   ethereum    50100.0  \n",
       "313  decentralized insurance protocol built on ethe...   ethereum    10300.0  \n",
       "524        ethereum based decentralized payment system   ethereum    66700.0  \n",
       "23   decentralized protocol that operates on the et...   ethereum    76300.0  \n",
       "476      platform to manage digital assets on ethereum   ethereum    56600.0  "
      ]
     },
     "execution_count": 19,
     "metadata": {},
     "output_type": "execute_result"
    }
   ],
   "source": [
    "print(user_sentences[2])\n",
    "_, idx = knn.kneighbors(vectorizer.transform([user_sentences[2]]))\n",
    "\n",
    "data.iloc[idx[0]]"
   ]
  },
  {
   "cell_type": "code",
   "execution_count": 20,
   "id": "af3a555f",
   "metadata": {},
   "outputs": [],
   "source": [
    "import pickle\n",
    "pickle.dump(vectorizer, open(\"vectorizer.pkl\", \"wb\"))\n",
    "pickle.dump(knn, open(\"knn.pkl\", \"wb\"))"
   ]
  },
  {
   "cell_type": "code",
   "execution_count": null,
   "id": "2437023b",
   "metadata": {},
   "outputs": [],
   "source": []
  },
  {
   "cell_type": "code",
   "execution_count": null,
   "id": "5f182f53",
   "metadata": {},
   "outputs": [],
   "source": []
  },
  {
   "cell_type": "code",
   "execution_count": null,
   "id": "6a3e715b",
   "metadata": {},
   "outputs": [],
   "source": []
  },
  {
   "cell_type": "code",
   "execution_count": null,
   "id": "ddf02de7",
   "metadata": {},
   "outputs": [],
   "source": []
  },
  {
   "cell_type": "code",
   "execution_count": null,
   "id": "754c6449",
   "metadata": {},
   "outputs": [],
   "source": []
  }
 ],
 "metadata": {
  "kernelspec": {
   "display_name": "Python 3 (ipykernel)",
   "language": "python",
   "name": "python3"
  },
  "language_info": {
   "codemirror_mode": {
    "name": "ipython",
    "version": 3
   },
   "file_extension": ".py",
   "mimetype": "text/x-python",
   "name": "python",
   "nbconvert_exporter": "python",
   "pygments_lexer": "ipython3",
   "version": "3.10.6"
  }
 },
 "nbformat": 4,
 "nbformat_minor": 5
}
