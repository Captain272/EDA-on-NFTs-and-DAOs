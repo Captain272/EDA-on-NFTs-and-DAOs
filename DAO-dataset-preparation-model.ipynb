{
 "cells": [
  {
   "cell_type": "code",
   "execution_count": 1,
   "id": "1a55d7ce",
   "metadata": {},
   "outputs": [],
   "source": [
    "import pandas as pd\n",
    "import ast\n",
    "from sklearn.preprocessing import MultiLabelBinarizer\n",
    "from sklearn.metrics import pairwise_distances\n"
   ]
  },
  {
   "cell_type": "code",
   "execution_count": 2,
   "id": "f099dc60",
   "metadata": {},
   "outputs": [],
   "source": [
    "dao = pd.read_csv(\"data/DAOs_DATA.txt\")"
   ]
  },
  {
   "cell_type": "code",
   "execution_count": 3,
   "id": "3751a19a",
   "metadata": {},
   "outputs": [
    {
     "data": {
      "text/html": [
       "<div>\n",
       "<style scoped>\n",
       "    .dataframe tbody tr th:only-of-type {\n",
       "        vertical-align: middle;\n",
       "    }\n",
       "\n",
       "    .dataframe tbody tr th {\n",
       "        vertical-align: top;\n",
       "    }\n",
       "\n",
       "    .dataframe thead th {\n",
       "        text-align: right;\n",
       "    }\n",
       "</style>\n",
       "<table border=\"1\" class=\"dataframe\">\n",
       "  <thead>\n",
       "    <tr style=\"text-align: right;\">\n",
       "      <th></th>\n",
       "      <th>Unnamed: 0</th>\n",
       "      <th>Dao_title</th>\n",
       "      <th>categories</th>\n",
       "      <th>about</th>\n",
       "      <th>simdaos</th>\n",
       "      <th>chain</th>\n",
       "    </tr>\n",
       "  </thead>\n",
       "  <tbody>\n",
       "    <tr>\n",
       "      <th>0</th>\n",
       "      <td>0</td>\n",
       "      <td>DAOHQ - Yog8 DAO</td>\n",
       "      <td>['Social Impact']</td>\n",
       "      <td>Yog8 DAO encourages wellness in Web3 by offeri...</td>\n",
       "      <td>['Antidote DAO', 'BoldDao', 'Boss Beauties DAO...</td>\n",
       "      <td>['Ethereum', '89.0']</td>\n",
       "    </tr>\n",
       "    <tr>\n",
       "      <th>1</th>\n",
       "      <td>1</td>\n",
       "      <td>DAOHQ - Lit Protocol DAO</td>\n",
       "      <td>['DAO Tools', 'Protocol']</td>\n",
       "      <td>Decentralized access control infrastructure de...</td>\n",
       "      <td>['88mph', 'APY Vision', '0x', '1inch Network']</td>\n",
       "      <td>['Ethereum', '20.6K']</td>\n",
       "    </tr>\n",
       "    <tr>\n",
       "      <th>2</th>\n",
       "      <td>2</td>\n",
       "      <td>DAOHQ - MinMax DAO</td>\n",
       "      <td>['Investment']</td>\n",
       "      <td>The IoTeX native cross-chain pegged assets AMM...</td>\n",
       "      <td>['80Acres DAO', 'Alpha Finance Lab', '8DAO', '...</td>\n",
       "      <td>['Ethereum', '55.0']</td>\n",
       "    </tr>\n",
       "    <tr>\n",
       "      <th>3</th>\n",
       "      <td>3</td>\n",
       "      <td>DAOHQ - Blockade Games DAO</td>\n",
       "      <td>['DAO Tools', 'Gaming']</td>\n",
       "      <td>Leading blockchain video game development stud...</td>\n",
       "      <td>['88mph', 'APY Vision', '0x', '1inch Network']</td>\n",
       "      <td>['Ethereum', '13.1K']</td>\n",
       "    </tr>\n",
       "    <tr>\n",
       "      <th>4</th>\n",
       "      <td>4</td>\n",
       "      <td>DAOHQ - The LAO DAO</td>\n",
       "      <td>[' www.thelao.io', ' www.thelao.io']</td>\n",
       "      <td>The LAO is a limited-liability, for-profit DAO...</td>\n",
       "      <td>[]</td>\n",
       "      <td>[]</td>\n",
       "    </tr>\n",
       "  </tbody>\n",
       "</table>\n",
       "</div>"
      ],
      "text/plain": [
       "   Unnamed: 0                   Dao_title  \\\n",
       "0           0            DAOHQ - Yog8 DAO   \n",
       "1           1    DAOHQ - Lit Protocol DAO   \n",
       "2           2          DAOHQ - MinMax DAO   \n",
       "3           3  DAOHQ - Blockade Games DAO   \n",
       "4           4         DAOHQ - The LAO DAO   \n",
       "\n",
       "                             categories  \\\n",
       "0                     ['Social Impact']   \n",
       "1             ['DAO Tools', 'Protocol']   \n",
       "2                        ['Investment']   \n",
       "3               ['DAO Tools', 'Gaming']   \n",
       "4  [' www.thelao.io', ' www.thelao.io']   \n",
       "\n",
       "                                               about  \\\n",
       "0  Yog8 DAO encourages wellness in Web3 by offeri...   \n",
       "1  Decentralized access control infrastructure de...   \n",
       "2  The IoTeX native cross-chain pegged assets AMM...   \n",
       "3  Leading blockchain video game development stud...   \n",
       "4  The LAO is a limited-liability, for-profit DAO...   \n",
       "\n",
       "                                             simdaos                  chain  \n",
       "0  ['Antidote DAO', 'BoldDao', 'Boss Beauties DAO...   ['Ethereum', '89.0']  \n",
       "1     ['88mph', 'APY Vision', '0x', '1inch Network']  ['Ethereum', '20.6K']  \n",
       "2  ['80Acres DAO', 'Alpha Finance Lab', '8DAO', '...   ['Ethereum', '55.0']  \n",
       "3     ['88mph', 'APY Vision', '0x', '1inch Network']  ['Ethereum', '13.1K']  \n",
       "4                                                 []                     []  "
      ]
     },
     "execution_count": 3,
     "metadata": {},
     "output_type": "execute_result"
    }
   ],
   "source": [
    "dao.head()"
   ]
  },
  {
   "cell_type": "markdown",
   "id": "cd2f818a",
   "metadata": {},
   "source": [
    "# Preprocessing"
   ]
  },
  {
   "cell_type": "code",
   "execution_count": 4,
   "id": "c17e81ae",
   "metadata": {},
   "outputs": [
    {
     "data": {
      "text/plain": [
       "(1006, 6)"
      ]
     },
     "execution_count": 4,
     "metadata": {},
     "output_type": "execute_result"
    }
   ],
   "source": [
    "dao.shape"
   ]
  },
  {
   "cell_type": "code",
   "execution_count": 5,
   "id": "5478ca0f",
   "metadata": {},
   "outputs": [],
   "source": [
    "data = dao.drop('Unnamed: 0',axis=1)"
   ]
  },
  {
   "cell_type": "code",
   "execution_count": 6,
   "id": "a292117a",
   "metadata": {},
   "outputs": [],
   "source": [
    "data.Dao_title = data.Dao_title.str.replace('DAOHQ - ','').str.lower()"
   ]
  },
  {
   "cell_type": "code",
   "execution_count": 7,
   "id": "5c3e54b3",
   "metadata": {},
   "outputs": [],
   "source": [
    "data.categories = data.categories.apply(lambda x: ast.literal_eval(x))\n",
    "data.categories\n",
    "\n",
    "categories = [\"Collector\",\"DAO Tools\",\"DeFi\",\"Entertainment\",\"Gaming\",\"Grant\",\"Investment\",\"Media\",\n",
    "              \"Metaverse\",\"Operating Systems\",\"Protocol\",\"SPAD\"\"Service\",\"Social\",\"Social Impact\",\n",
    "              \"Venture Capital\"]\n",
    "\n",
    "def category_replace(x):\n",
    "    for i, cat in enumerate(x):\n",
    "        if cat not in categories:\n",
    "            x[i] = \"other\"\n",
    "    return x\n",
    "\n",
    "data.categories.apply(category_replace)\n",
    "\n",
    "\n",
    "mlb = MultiLabelBinarizer()\n",
    "\n",
    "\n",
    "\n",
    "mlb.fit(data.categories)\n",
    "\n",
    "mlb.classes_\n",
    "\n",
    "cat=pd.DataFrame(mlb.transform(data.categories),columns=mlb.classes_)"
   ]
  },
  {
   "cell_type": "code",
   "execution_count": 8,
   "id": "c32feea5",
   "metadata": {},
   "outputs": [],
   "source": [
    "data.chain = data.chain.apply(lambda x: ast.literal_eval(x))"
   ]
  },
  {
   "cell_type": "code",
   "execution_count": 9,
   "id": "be3f9b28",
   "metadata": {},
   "outputs": [
    {
     "data": {
      "text/plain": [
       "'Ethereum'"
      ]
     },
     "execution_count": 9,
     "metadata": {},
     "output_type": "execute_result"
    }
   ],
   "source": [
    "data.chain[0][0]"
   ]
  },
  {
   "cell_type": "code",
   "execution_count": 10,
   "id": "7d0ad39b",
   "metadata": {},
   "outputs": [
    {
     "data": {
      "text/html": [
       "<div>\n",
       "<style scoped>\n",
       "    .dataframe tbody tr th:only-of-type {\n",
       "        vertical-align: middle;\n",
       "    }\n",
       "\n",
       "    .dataframe tbody tr th {\n",
       "        vertical-align: top;\n",
       "    }\n",
       "\n",
       "    .dataframe thead th {\n",
       "        text-align: right;\n",
       "    }\n",
       "</style>\n",
       "<table border=\"1\" class=\"dataframe\">\n",
       "  <thead>\n",
       "    <tr style=\"text-align: right;\">\n",
       "      <th></th>\n",
       "      <th>Dao_title</th>\n",
       "      <th>categories</th>\n",
       "      <th>about</th>\n",
       "      <th>simdaos</th>\n",
       "      <th>chain</th>\n",
       "      <th>blockchain</th>\n",
       "      <th>followers</th>\n",
       "    </tr>\n",
       "  </thead>\n",
       "  <tbody>\n",
       "    <tr>\n",
       "      <th>0</th>\n",
       "      <td>yog8 dao</td>\n",
       "      <td>[Social Impact]</td>\n",
       "      <td>Yog8 DAO encourages wellness in Web3 by offeri...</td>\n",
       "      <td>['Antidote DAO', 'BoldDao', 'Boss Beauties DAO...</td>\n",
       "      <td>[Ethereum, 89.0]</td>\n",
       "      <td>Ethereum</td>\n",
       "      <td>89.0</td>\n",
       "    </tr>\n",
       "    <tr>\n",
       "      <th>1</th>\n",
       "      <td>lit protocol dao</td>\n",
       "      <td>[DAO Tools, Protocol]</td>\n",
       "      <td>Decentralized access control infrastructure de...</td>\n",
       "      <td>['88mph', 'APY Vision', '0x', '1inch Network']</td>\n",
       "      <td>[Ethereum, 20.6K]</td>\n",
       "      <td>Ethereum</td>\n",
       "      <td>20.6K</td>\n",
       "    </tr>\n",
       "    <tr>\n",
       "      <th>2</th>\n",
       "      <td>minmax dao</td>\n",
       "      <td>[Investment]</td>\n",
       "      <td>The IoTeX native cross-chain pegged assets AMM...</td>\n",
       "      <td>['80Acres DAO', 'Alpha Finance Lab', '8DAO', '...</td>\n",
       "      <td>[Ethereum, 55.0]</td>\n",
       "      <td>Ethereum</td>\n",
       "      <td>55.0</td>\n",
       "    </tr>\n",
       "    <tr>\n",
       "      <th>3</th>\n",
       "      <td>blockade games dao</td>\n",
       "      <td>[DAO Tools, Gaming]</td>\n",
       "      <td>Leading blockchain video game development stud...</td>\n",
       "      <td>['88mph', 'APY Vision', '0x', '1inch Network']</td>\n",
       "      <td>[Ethereum, 13.1K]</td>\n",
       "      <td>Ethereum</td>\n",
       "      <td>13.1K</td>\n",
       "    </tr>\n",
       "    <tr>\n",
       "      <th>4</th>\n",
       "      <td>the lao dao</td>\n",
       "      <td>[other, other]</td>\n",
       "      <td>The LAO is a limited-liability, for-profit DAO...</td>\n",
       "      <td>[]</td>\n",
       "      <td>[]</td>\n",
       "      <td>None</td>\n",
       "      <td>None</td>\n",
       "    </tr>\n",
       "  </tbody>\n",
       "</table>\n",
       "</div>"
      ],
      "text/plain": [
       "            Dao_title             categories  \\\n",
       "0            yog8 dao        [Social Impact]   \n",
       "1    lit protocol dao  [DAO Tools, Protocol]   \n",
       "2          minmax dao           [Investment]   \n",
       "3  blockade games dao    [DAO Tools, Gaming]   \n",
       "4         the lao dao         [other, other]   \n",
       "\n",
       "                                               about  \\\n",
       "0  Yog8 DAO encourages wellness in Web3 by offeri...   \n",
       "1  Decentralized access control infrastructure de...   \n",
       "2  The IoTeX native cross-chain pegged assets AMM...   \n",
       "3  Leading blockchain video game development stud...   \n",
       "4  The LAO is a limited-liability, for-profit DAO...   \n",
       "\n",
       "                                             simdaos              chain  \\\n",
       "0  ['Antidote DAO', 'BoldDao', 'Boss Beauties DAO...   [Ethereum, 89.0]   \n",
       "1     ['88mph', 'APY Vision', '0x', '1inch Network']  [Ethereum, 20.6K]   \n",
       "2  ['80Acres DAO', 'Alpha Finance Lab', '8DAO', '...   [Ethereum, 55.0]   \n",
       "3     ['88mph', 'APY Vision', '0x', '1inch Network']  [Ethereum, 13.1K]   \n",
       "4                                                 []                 []   \n",
       "\n",
       "  blockchain followers  \n",
       "0   Ethereum      89.0  \n",
       "1   Ethereum     20.6K  \n",
       "2   Ethereum      55.0  \n",
       "3   Ethereum     13.1K  \n",
       "4       None      None  "
      ]
     },
     "execution_count": 10,
     "metadata": {},
     "output_type": "execute_result"
    }
   ],
   "source": [
    "data['blockchain'] = data.chain.apply(lambda x: x[0] if len(x)==2 else None)\n",
    "data['followers'] = data.chain.apply(lambda x: x[1] if len(x)==2 else None)\n",
    "data.head()"
   ]
  },
  {
   "cell_type": "code",
   "execution_count": 11,
   "id": "fe5f5488",
   "metadata": {},
   "outputs": [
    {
     "data": {
      "text/plain": [
       "array(['Ethereum', None, 'Solana', 'Polygon', 'Binance', 'Bitcoin',\n",
       "       'Avalanche', 'NEAR', 'Fantom', 'Gnosis', 'Tezos', 'Arbitrum',\n",
       "       'Cosmos', 'Arweave', 'Moonriver', 'Kylin'], dtype=object)"
      ]
     },
     "execution_count": 11,
     "metadata": {},
     "output_type": "execute_result"
    }
   ],
   "source": [
    "data.blockchain.unique()"
   ]
  },
  {
   "cell_type": "code",
   "execution_count": 12,
   "id": "347dad0e",
   "metadata": {},
   "outputs": [
    {
     "data": {
      "text/plain": [
       "0         89.0\n",
       "1        20.6K\n",
       "2         55.0\n",
       "3        13.1K\n",
       "4         None\n",
       "         ...  \n",
       "1001     157.0\n",
       "1002      7.2K\n",
       "1003    256.9K\n",
       "1004     35.4K\n",
       "1005      3.5K\n",
       "Name: followers, Length: 1006, dtype: object"
      ]
     },
     "execution_count": 12,
     "metadata": {},
     "output_type": "execute_result"
    }
   ],
   "source": [
    "data.followers"
   ]
  },
  {
   "cell_type": "code",
   "execution_count": 13,
   "id": "37f0e7fb",
   "metadata": {},
   "outputs": [
    {
     "data": {
      "text/plain": [
       "'93.6K'"
      ]
     },
     "execution_count": 13,
     "metadata": {},
     "output_type": "execute_result"
    }
   ],
   "source": [
    "data.followers[113]"
   ]
  },
  {
   "cell_type": "code",
   "execution_count": null,
   "id": "8103ce14",
   "metadata": {},
   "outputs": [],
   "source": []
  },
  {
   "cell_type": "code",
   "execution_count": 14,
   "id": "cb63075f",
   "metadata": {},
   "outputs": [],
   "source": [
    "def clean_followers(x):\n",
    "    if x:\n",
    "        if 'M' in x:\n",
    "            return float(x.replace('M',''))*1000000\n",
    "        elif 'K'in x:\n",
    "            return float(x.replace('K',''))*1000\n",
    "    return 0."
   ]
  },
  {
   "cell_type": "code",
   "execution_count": 15,
   "id": "6f61c753",
   "metadata": {},
   "outputs": [],
   "source": [
    "data['followers'] = data.followers.apply(clean_followers)"
   ]
  },
  {
   "cell_type": "code",
   "execution_count": 16,
   "id": "c73eadfe",
   "metadata": {},
   "outputs": [
    {
     "data": {
      "text/html": [
       "<div>\n",
       "<style scoped>\n",
       "    .dataframe tbody tr th:only-of-type {\n",
       "        vertical-align: middle;\n",
       "    }\n",
       "\n",
       "    .dataframe tbody tr th {\n",
       "        vertical-align: top;\n",
       "    }\n",
       "\n",
       "    .dataframe thead th {\n",
       "        text-align: right;\n",
       "    }\n",
       "</style>\n",
       "<table border=\"1\" class=\"dataframe\">\n",
       "  <thead>\n",
       "    <tr style=\"text-align: right;\">\n",
       "      <th></th>\n",
       "      <th>Dao_title</th>\n",
       "      <th>categories</th>\n",
       "      <th>about</th>\n",
       "      <th>simdaos</th>\n",
       "      <th>chain</th>\n",
       "      <th>blockchain</th>\n",
       "      <th>followers</th>\n",
       "    </tr>\n",
       "  </thead>\n",
       "  <tbody>\n",
       "    <tr>\n",
       "      <th>0</th>\n",
       "      <td>yog8 dao</td>\n",
       "      <td>[Social Impact]</td>\n",
       "      <td>Yog8 DAO encourages wellness in Web3 by offeri...</td>\n",
       "      <td>['Antidote DAO', 'BoldDao', 'Boss Beauties DAO...</td>\n",
       "      <td>[Ethereum, 89.0]</td>\n",
       "      <td>Ethereum</td>\n",
       "      <td>0.0</td>\n",
       "    </tr>\n",
       "    <tr>\n",
       "      <th>1</th>\n",
       "      <td>lit protocol dao</td>\n",
       "      <td>[DAO Tools, Protocol]</td>\n",
       "      <td>Decentralized access control infrastructure de...</td>\n",
       "      <td>['88mph', 'APY Vision', '0x', '1inch Network']</td>\n",
       "      <td>[Ethereum, 20.6K]</td>\n",
       "      <td>Ethereum</td>\n",
       "      <td>20600.0</td>\n",
       "    </tr>\n",
       "    <tr>\n",
       "      <th>2</th>\n",
       "      <td>minmax dao</td>\n",
       "      <td>[Investment]</td>\n",
       "      <td>The IoTeX native cross-chain pegged assets AMM...</td>\n",
       "      <td>['80Acres DAO', 'Alpha Finance Lab', '8DAO', '...</td>\n",
       "      <td>[Ethereum, 55.0]</td>\n",
       "      <td>Ethereum</td>\n",
       "      <td>0.0</td>\n",
       "    </tr>\n",
       "    <tr>\n",
       "      <th>3</th>\n",
       "      <td>blockade games dao</td>\n",
       "      <td>[DAO Tools, Gaming]</td>\n",
       "      <td>Leading blockchain video game development stud...</td>\n",
       "      <td>['88mph', 'APY Vision', '0x', '1inch Network']</td>\n",
       "      <td>[Ethereum, 13.1K]</td>\n",
       "      <td>Ethereum</td>\n",
       "      <td>13100.0</td>\n",
       "    </tr>\n",
       "    <tr>\n",
       "      <th>4</th>\n",
       "      <td>the lao dao</td>\n",
       "      <td>[other, other]</td>\n",
       "      <td>The LAO is a limited-liability, for-profit DAO...</td>\n",
       "      <td>[]</td>\n",
       "      <td>[]</td>\n",
       "      <td>None</td>\n",
       "      <td>0.0</td>\n",
       "    </tr>\n",
       "  </tbody>\n",
       "</table>\n",
       "</div>"
      ],
      "text/plain": [
       "            Dao_title             categories  \\\n",
       "0            yog8 dao        [Social Impact]   \n",
       "1    lit protocol dao  [DAO Tools, Protocol]   \n",
       "2          minmax dao           [Investment]   \n",
       "3  blockade games dao    [DAO Tools, Gaming]   \n",
       "4         the lao dao         [other, other]   \n",
       "\n",
       "                                               about  \\\n",
       "0  Yog8 DAO encourages wellness in Web3 by offeri...   \n",
       "1  Decentralized access control infrastructure de...   \n",
       "2  The IoTeX native cross-chain pegged assets AMM...   \n",
       "3  Leading blockchain video game development stud...   \n",
       "4  The LAO is a limited-liability, for-profit DAO...   \n",
       "\n",
       "                                             simdaos              chain  \\\n",
       "0  ['Antidote DAO', 'BoldDao', 'Boss Beauties DAO...   [Ethereum, 89.0]   \n",
       "1     ['88mph', 'APY Vision', '0x', '1inch Network']  [Ethereum, 20.6K]   \n",
       "2  ['80Acres DAO', 'Alpha Finance Lab', '8DAO', '...   [Ethereum, 55.0]   \n",
       "3     ['88mph', 'APY Vision', '0x', '1inch Network']  [Ethereum, 13.1K]   \n",
       "4                                                 []                 []   \n",
       "\n",
       "  blockchain  followers  \n",
       "0   Ethereum        0.0  \n",
       "1   Ethereum    20600.0  \n",
       "2   Ethereum        0.0  \n",
       "3   Ethereum    13100.0  \n",
       "4       None        0.0  "
      ]
     },
     "execution_count": 16,
     "metadata": {},
     "output_type": "execute_result"
    }
   ],
   "source": [
    "data.head()"
   ]
  },
  {
   "cell_type": "code",
   "execution_count": 17,
   "id": "685821cb",
   "metadata": {},
   "outputs": [],
   "source": [
    "data.drop(['simdaos','chain'], axis=1, inplace=True)"
   ]
  },
  {
   "cell_type": "code",
   "execution_count": 18,
   "id": "cb3b2b2c",
   "metadata": {},
   "outputs": [
    {
     "data": {
      "text/html": [
       "<div>\n",
       "<style scoped>\n",
       "    .dataframe tbody tr th:only-of-type {\n",
       "        vertical-align: middle;\n",
       "    }\n",
       "\n",
       "    .dataframe tbody tr th {\n",
       "        vertical-align: top;\n",
       "    }\n",
       "\n",
       "    .dataframe thead th {\n",
       "        text-align: right;\n",
       "    }\n",
       "</style>\n",
       "<table border=\"1\" class=\"dataframe\">\n",
       "  <thead>\n",
       "    <tr style=\"text-align: right;\">\n",
       "      <th></th>\n",
       "      <th>Dao_title</th>\n",
       "      <th>categories</th>\n",
       "      <th>about</th>\n",
       "      <th>blockchain</th>\n",
       "      <th>followers</th>\n",
       "    </tr>\n",
       "  </thead>\n",
       "  <tbody>\n",
       "    <tr>\n",
       "      <th>0</th>\n",
       "      <td>yog8 dao</td>\n",
       "      <td>[Social Impact]</td>\n",
       "      <td>Yog8 DAO encourages wellness in Web3 by offeri...</td>\n",
       "      <td>Ethereum</td>\n",
       "      <td>0.0</td>\n",
       "    </tr>\n",
       "    <tr>\n",
       "      <th>1</th>\n",
       "      <td>lit protocol dao</td>\n",
       "      <td>[DAO Tools, Protocol]</td>\n",
       "      <td>Decentralized access control infrastructure de...</td>\n",
       "      <td>Ethereum</td>\n",
       "      <td>20600.0</td>\n",
       "    </tr>\n",
       "    <tr>\n",
       "      <th>2</th>\n",
       "      <td>minmax dao</td>\n",
       "      <td>[Investment]</td>\n",
       "      <td>The IoTeX native cross-chain pegged assets AMM...</td>\n",
       "      <td>Ethereum</td>\n",
       "      <td>0.0</td>\n",
       "    </tr>\n",
       "    <tr>\n",
       "      <th>3</th>\n",
       "      <td>blockade games dao</td>\n",
       "      <td>[DAO Tools, Gaming]</td>\n",
       "      <td>Leading blockchain video game development stud...</td>\n",
       "      <td>Ethereum</td>\n",
       "      <td>13100.0</td>\n",
       "    </tr>\n",
       "    <tr>\n",
       "      <th>4</th>\n",
       "      <td>the lao dao</td>\n",
       "      <td>[other, other]</td>\n",
       "      <td>The LAO is a limited-liability, for-profit DAO...</td>\n",
       "      <td>None</td>\n",
       "      <td>0.0</td>\n",
       "    </tr>\n",
       "  </tbody>\n",
       "</table>\n",
       "</div>"
      ],
      "text/plain": [
       "            Dao_title             categories  \\\n",
       "0            yog8 dao        [Social Impact]   \n",
       "1    lit protocol dao  [DAO Tools, Protocol]   \n",
       "2          minmax dao           [Investment]   \n",
       "3  blockade games dao    [DAO Tools, Gaming]   \n",
       "4         the lao dao         [other, other]   \n",
       "\n",
       "                                               about blockchain  followers  \n",
       "0  Yog8 DAO encourages wellness in Web3 by offeri...   Ethereum        0.0  \n",
       "1  Decentralized access control infrastructure de...   Ethereum    20600.0  \n",
       "2  The IoTeX native cross-chain pegged assets AMM...   Ethereum        0.0  \n",
       "3  Leading blockchain video game development stud...   Ethereum    13100.0  \n",
       "4  The LAO is a limited-liability, for-profit DAO...       None        0.0  "
      ]
     },
     "execution_count": 18,
     "metadata": {},
     "output_type": "execute_result"
    }
   ],
   "source": [
    "data.head()"
   ]
  },
  {
   "cell_type": "code",
   "execution_count": 19,
   "id": "79322204",
   "metadata": {},
   "outputs": [],
   "source": [
    "data.to_csv(\"dao_cleaned_data.csv\",  index=False)"
   ]
  },
  {
   "cell_type": "code",
   "execution_count": 20,
   "id": "533b2fd9",
   "metadata": {},
   "outputs": [],
   "source": [
    "from gensim.utils import simple_preprocess"
   ]
  },
  {
   "cell_type": "code",
   "execution_count": 21,
   "id": "60c6cfec",
   "metadata": {},
   "outputs": [],
   "source": [
    "data['about'] = data.about.apply(lambda x: \" \".join(simple_preprocess(x)))"
   ]
  },
  {
   "cell_type": "code",
   "execution_count": 22,
   "id": "3675cee0",
   "metadata": {},
   "outputs": [
    {
     "data": {
      "text/html": [
       "<div>\n",
       "<style scoped>\n",
       "    .dataframe tbody tr th:only-of-type {\n",
       "        vertical-align: middle;\n",
       "    }\n",
       "\n",
       "    .dataframe tbody tr th {\n",
       "        vertical-align: top;\n",
       "    }\n",
       "\n",
       "    .dataframe thead th {\n",
       "        text-align: right;\n",
       "    }\n",
       "</style>\n",
       "<table border=\"1\" class=\"dataframe\">\n",
       "  <thead>\n",
       "    <tr style=\"text-align: right;\">\n",
       "      <th></th>\n",
       "      <th>Dao_title</th>\n",
       "      <th>categories</th>\n",
       "      <th>about</th>\n",
       "      <th>blockchain</th>\n",
       "      <th>followers</th>\n",
       "    </tr>\n",
       "  </thead>\n",
       "  <tbody>\n",
       "    <tr>\n",
       "      <th>0</th>\n",
       "      <td>yog8 dao</td>\n",
       "      <td>[Social Impact]</td>\n",
       "      <td>yog dao encourages wellness in web by offering...</td>\n",
       "      <td>Ethereum</td>\n",
       "      <td>0.0</td>\n",
       "    </tr>\n",
       "    <tr>\n",
       "      <th>1</th>\n",
       "      <td>lit protocol dao</td>\n",
       "      <td>[DAO Tools, Protocol]</td>\n",
       "      <td>decentralized access control infrastructure de...</td>\n",
       "      <td>Ethereum</td>\n",
       "      <td>20600.0</td>\n",
       "    </tr>\n",
       "    <tr>\n",
       "      <th>2</th>\n",
       "      <td>minmax dao</td>\n",
       "      <td>[Investment]</td>\n",
       "      <td>the iotex native cross chain pegged assets amm...</td>\n",
       "      <td>Ethereum</td>\n",
       "      <td>0.0</td>\n",
       "    </tr>\n",
       "    <tr>\n",
       "      <th>3</th>\n",
       "      <td>blockade games dao</td>\n",
       "      <td>[DAO Tools, Gaming]</td>\n",
       "      <td>leading blockchain video game development studio</td>\n",
       "      <td>Ethereum</td>\n",
       "      <td>13100.0</td>\n",
       "    </tr>\n",
       "    <tr>\n",
       "      <th>4</th>\n",
       "      <td>the lao dao</td>\n",
       "      <td>[other, other]</td>\n",
       "      <td>the lao is limited liability for profit dao th...</td>\n",
       "      <td>None</td>\n",
       "      <td>0.0</td>\n",
       "    </tr>\n",
       "  </tbody>\n",
       "</table>\n",
       "</div>"
      ],
      "text/plain": [
       "            Dao_title             categories  \\\n",
       "0            yog8 dao        [Social Impact]   \n",
       "1    lit protocol dao  [DAO Tools, Protocol]   \n",
       "2          minmax dao           [Investment]   \n",
       "3  blockade games dao    [DAO Tools, Gaming]   \n",
       "4         the lao dao         [other, other]   \n",
       "\n",
       "                                               about blockchain  followers  \n",
       "0  yog dao encourages wellness in web by offering...   Ethereum        0.0  \n",
       "1  decentralized access control infrastructure de...   Ethereum    20600.0  \n",
       "2  the iotex native cross chain pegged assets amm...   Ethereum        0.0  \n",
       "3   leading blockchain video game development studio   Ethereum    13100.0  \n",
       "4  the lao is limited liability for profit dao th...       None        0.0  "
      ]
     },
     "execution_count": 22,
     "metadata": {},
     "output_type": "execute_result"
    }
   ],
   "source": [
    "data.head()"
   ]
  },
  {
   "cell_type": "code",
   "execution_count": 23,
   "id": "51df47e8",
   "metadata": {},
   "outputs": [],
   "source": [
    "final_data = pd.concat([data, cat], axis=1)"
   ]
  },
  {
   "cell_type": "code",
   "execution_count": 24,
   "id": "25c51118",
   "metadata": {},
   "outputs": [
    {
     "data": {
      "text/plain": [
       "((1006, 5), (1006, 15))"
      ]
     },
     "execution_count": 24,
     "metadata": {},
     "output_type": "execute_result"
    }
   ],
   "source": [
    "data.shape, cat.shape"
   ]
  },
  {
   "cell_type": "code",
   "execution_count": 25,
   "id": "0b1738f8",
   "metadata": {},
   "outputs": [
    {
     "data": {
      "text/html": [
       "<div>\n",
       "<style scoped>\n",
       "    .dataframe tbody tr th:only-of-type {\n",
       "        vertical-align: middle;\n",
       "    }\n",
       "\n",
       "    .dataframe tbody tr th {\n",
       "        vertical-align: top;\n",
       "    }\n",
       "\n",
       "    .dataframe thead th {\n",
       "        text-align: right;\n",
       "    }\n",
       "</style>\n",
       "<table border=\"1\" class=\"dataframe\">\n",
       "  <thead>\n",
       "    <tr style=\"text-align: right;\">\n",
       "      <th></th>\n",
       "      <th>Dao_title</th>\n",
       "      <th>categories</th>\n",
       "      <th>about</th>\n",
       "      <th>blockchain</th>\n",
       "      <th>followers</th>\n",
       "      <th>Collector</th>\n",
       "      <th>DAO Tools</th>\n",
       "      <th>DeFi</th>\n",
       "      <th>Entertainment</th>\n",
       "      <th>Gaming</th>\n",
       "      <th>Grant</th>\n",
       "      <th>Investment</th>\n",
       "      <th>Media</th>\n",
       "      <th>Metaverse</th>\n",
       "      <th>Operating Systems</th>\n",
       "      <th>Protocol</th>\n",
       "      <th>Social</th>\n",
       "      <th>Social Impact</th>\n",
       "      <th>Venture Capital</th>\n",
       "      <th>other</th>\n",
       "    </tr>\n",
       "  </thead>\n",
       "  <tbody>\n",
       "    <tr>\n",
       "      <th>0</th>\n",
       "      <td>yog8 dao</td>\n",
       "      <td>[Social Impact]</td>\n",
       "      <td>yog dao encourages wellness in web by offering...</td>\n",
       "      <td>Ethereum</td>\n",
       "      <td>0.0</td>\n",
       "      <td>0</td>\n",
       "      <td>0</td>\n",
       "      <td>0</td>\n",
       "      <td>0</td>\n",
       "      <td>0</td>\n",
       "      <td>0</td>\n",
       "      <td>0</td>\n",
       "      <td>0</td>\n",
       "      <td>0</td>\n",
       "      <td>0</td>\n",
       "      <td>0</td>\n",
       "      <td>0</td>\n",
       "      <td>1</td>\n",
       "      <td>0</td>\n",
       "      <td>0</td>\n",
       "    </tr>\n",
       "    <tr>\n",
       "      <th>1</th>\n",
       "      <td>lit protocol dao</td>\n",
       "      <td>[DAO Tools, Protocol]</td>\n",
       "      <td>decentralized access control infrastructure de...</td>\n",
       "      <td>Ethereum</td>\n",
       "      <td>20600.0</td>\n",
       "      <td>0</td>\n",
       "      <td>1</td>\n",
       "      <td>0</td>\n",
       "      <td>0</td>\n",
       "      <td>0</td>\n",
       "      <td>0</td>\n",
       "      <td>0</td>\n",
       "      <td>0</td>\n",
       "      <td>0</td>\n",
       "      <td>0</td>\n",
       "      <td>1</td>\n",
       "      <td>0</td>\n",
       "      <td>0</td>\n",
       "      <td>0</td>\n",
       "      <td>0</td>\n",
       "    </tr>\n",
       "    <tr>\n",
       "      <th>2</th>\n",
       "      <td>minmax dao</td>\n",
       "      <td>[Investment]</td>\n",
       "      <td>the iotex native cross chain pegged assets amm...</td>\n",
       "      <td>Ethereum</td>\n",
       "      <td>0.0</td>\n",
       "      <td>0</td>\n",
       "      <td>0</td>\n",
       "      <td>0</td>\n",
       "      <td>0</td>\n",
       "      <td>0</td>\n",
       "      <td>0</td>\n",
       "      <td>1</td>\n",
       "      <td>0</td>\n",
       "      <td>0</td>\n",
       "      <td>0</td>\n",
       "      <td>0</td>\n",
       "      <td>0</td>\n",
       "      <td>0</td>\n",
       "      <td>0</td>\n",
       "      <td>0</td>\n",
       "    </tr>\n",
       "    <tr>\n",
       "      <th>3</th>\n",
       "      <td>blockade games dao</td>\n",
       "      <td>[DAO Tools, Gaming]</td>\n",
       "      <td>leading blockchain video game development studio</td>\n",
       "      <td>Ethereum</td>\n",
       "      <td>13100.0</td>\n",
       "      <td>0</td>\n",
       "      <td>1</td>\n",
       "      <td>0</td>\n",
       "      <td>0</td>\n",
       "      <td>1</td>\n",
       "      <td>0</td>\n",
       "      <td>0</td>\n",
       "      <td>0</td>\n",
       "      <td>0</td>\n",
       "      <td>0</td>\n",
       "      <td>0</td>\n",
       "      <td>0</td>\n",
       "      <td>0</td>\n",
       "      <td>0</td>\n",
       "      <td>0</td>\n",
       "    </tr>\n",
       "    <tr>\n",
       "      <th>4</th>\n",
       "      <td>the lao dao</td>\n",
       "      <td>[other, other]</td>\n",
       "      <td>the lao is limited liability for profit dao th...</td>\n",
       "      <td>None</td>\n",
       "      <td>0.0</td>\n",
       "      <td>0</td>\n",
       "      <td>0</td>\n",
       "      <td>0</td>\n",
       "      <td>0</td>\n",
       "      <td>0</td>\n",
       "      <td>0</td>\n",
       "      <td>0</td>\n",
       "      <td>0</td>\n",
       "      <td>0</td>\n",
       "      <td>0</td>\n",
       "      <td>0</td>\n",
       "      <td>0</td>\n",
       "      <td>0</td>\n",
       "      <td>0</td>\n",
       "      <td>1</td>\n",
       "    </tr>\n",
       "  </tbody>\n",
       "</table>\n",
       "</div>"
      ],
      "text/plain": [
       "            Dao_title             categories  \\\n",
       "0            yog8 dao        [Social Impact]   \n",
       "1    lit protocol dao  [DAO Tools, Protocol]   \n",
       "2          minmax dao           [Investment]   \n",
       "3  blockade games dao    [DAO Tools, Gaming]   \n",
       "4         the lao dao         [other, other]   \n",
       "\n",
       "                                               about blockchain  followers  \\\n",
       "0  yog dao encourages wellness in web by offering...   Ethereum        0.0   \n",
       "1  decentralized access control infrastructure de...   Ethereum    20600.0   \n",
       "2  the iotex native cross chain pegged assets amm...   Ethereum        0.0   \n",
       "3   leading blockchain video game development studio   Ethereum    13100.0   \n",
       "4  the lao is limited liability for profit dao th...       None        0.0   \n",
       "\n",
       "   Collector  DAO Tools  DeFi  Entertainment  Gaming  Grant  Investment  \\\n",
       "0          0          0     0              0       0      0           0   \n",
       "1          0          1     0              0       0      0           0   \n",
       "2          0          0     0              0       0      0           1   \n",
       "3          0          1     0              0       1      0           0   \n",
       "4          0          0     0              0       0      0           0   \n",
       "\n",
       "   Media  Metaverse  Operating Systems  Protocol  Social  Social Impact  \\\n",
       "0      0          0                  0         0       0              1   \n",
       "1      0          0                  0         1       0              0   \n",
       "2      0          0                  0         0       0              0   \n",
       "3      0          0                  0         0       0              0   \n",
       "4      0          0                  0         0       0              0   \n",
       "\n",
       "   Venture Capital  other  \n",
       "0                0      0  \n",
       "1                0      0  \n",
       "2                0      0  \n",
       "3                0      0  \n",
       "4                0      1  "
      ]
     },
     "execution_count": 25,
     "metadata": {},
     "output_type": "execute_result"
    }
   ],
   "source": [
    "final_data.head()"
   ]
  },
  {
   "cell_type": "code",
   "execution_count": null,
   "id": "fa2a4e71",
   "metadata": {},
   "outputs": [],
   "source": []
  },
  {
   "cell_type": "code",
   "execution_count": null,
   "id": "a613e936",
   "metadata": {},
   "outputs": [],
   "source": []
  },
  {
   "cell_type": "code",
   "execution_count": null,
   "id": "b1409314",
   "metadata": {},
   "outputs": [],
   "source": []
  },
  {
   "cell_type": "code",
   "execution_count": 26,
   "id": "f1d2ceeb",
   "metadata": {},
   "outputs": [
    {
     "name": "stdout",
     "output_type": "stream",
     "text": [
      "(1006, 4673)\n"
     ]
    },
    {
     "data": {
      "text/plain": [
       "<1006x4673 sparse matrix of type '<class 'numpy.float64'>'\n",
       "\twith 23396 stored elements in Compressed Sparse Row format>"
      ]
     },
     "execution_count": 26,
     "metadata": {},
     "output_type": "execute_result"
    }
   ],
   "source": [
    "# from sklearn.feature_extraction.text import TfidfVectorizer\n",
    "\n",
    "# corpus = final_data.about.tolist()\n",
    "# vectorizer = TfidfVectorizer(max_features=5000, preprocessor= lambda x: \" \".join(simple_preprocess(x)))\n",
    "# X = vectorizer.fit_transform(corpus)\n",
    "\n",
    "# print(X.shape)\n",
    "# X"
   ]
  },
  {
   "cell_type": "code",
   "execution_count": 27,
   "id": "e6aca96e",
   "metadata": {},
   "outputs": [
    {
     "data": {
      "text/plain": [
       "(1, 4673)"
      ]
     },
     "execution_count": 27,
     "metadata": {},
     "output_type": "execute_result"
    }
   ],
   "source": [
    "X[0].shape"
   ]
  },
  {
   "cell_type": "code",
   "execution_count": 28,
   "id": "5218a7be",
   "metadata": {
    "scrolled": true
   },
   "outputs": [
    {
     "data": {
      "text/plain": [
       "'yog dao encourages wellness in web by offering financial incentives for meditation and yoga to normalize self care and sacred geometry animated yoga boss nfts with chakra frequency music to induce meditative experience yog dao is yoga centered social impact dao providing mental health wellness metaverse to incentivize self care by merging gamification with meditation by offering financial rewards for individual and community meditation and yoga sessions we believe yoga and meditation are free mental health tools that should be easily accessible and our goal is to share yoga and meditation with billion people worldwide to normalize self care practices for the well being of our global community conscious contributions include sacred geometry animated yoga boss nft with chakra frequency music for an immediate meditative immersion in addition to the yog dao mental health wellness metaverse platform providing instant access to yoga meditation holistic health therapies and global yoga retreats'"
      ]
     },
     "execution_count": 28,
     "metadata": {},
     "output_type": "execute_result"
    }
   ],
   "source": [
    "final_data.iloc[0].about"
   ]
  },
  {
   "cell_type": "code",
   "execution_count": 40,
   "id": "a47e988c",
   "metadata": {},
   "outputs": [
    {
     "name": "stdout",
     "output_type": "stream",
     "text": [
      "(1006, 4697)\n"
     ]
    }
   ],
   "source": [
    "from sklearn.feature_extraction.text import TfidfVectorizer\n",
    "\n",
    "dao_corpus = final_data.about.tolist()\n",
    "corpus = dao_corpus.copy()\n",
    "\n",
    "user_corpus = users.choice.tolist()\n",
    "\n",
    "corpus.extend(user_corpus)\n",
    "\n",
    "vectorizer = TfidfVectorizer(max_features=5000, preprocessor= lambda x: \" \".join(simple_preprocess(x)))\n",
    "_ = vectorizer.fit(corpus)\n",
    "X = vectorizer.transform(dao_corpus)\n",
    "\n",
    "print(X.shape)\n"
   ]
  },
  {
   "cell_type": "code",
   "execution_count": null,
   "id": "5d252b29",
   "metadata": {},
   "outputs": [],
   "source": []
  },
  {
   "cell_type": "code",
   "execution_count": 44,
   "id": "2a8450b1",
   "metadata": {},
   "outputs": [],
   "source": [
    "from sklearn.neighbors import NearestNeighbors"
   ]
  },
  {
   "cell_type": "code",
   "execution_count": 50,
   "id": "55b14283",
   "metadata": {},
   "outputs": [
    {
     "data": {
      "text/html": [
       "<div>\n",
       "<style scoped>\n",
       "    .dataframe tbody tr th:only-of-type {\n",
       "        vertical-align: middle;\n",
       "    }\n",
       "\n",
       "    .dataframe tbody tr th {\n",
       "        vertical-align: top;\n",
       "    }\n",
       "\n",
       "    .dataframe thead th {\n",
       "        text-align: right;\n",
       "    }\n",
       "</style>\n",
       "<table border=\"1\" class=\"dataframe\">\n",
       "  <thead>\n",
       "    <tr style=\"text-align: right;\">\n",
       "      <th></th>\n",
       "      <th>Dao_title</th>\n",
       "      <th>categories</th>\n",
       "      <th>about</th>\n",
       "      <th>blockchain</th>\n",
       "      <th>followers</th>\n",
       "    </tr>\n",
       "  </thead>\n",
       "  <tbody>\n",
       "    <tr>\n",
       "      <th>0</th>\n",
       "      <td>yog8 dao</td>\n",
       "      <td>[Social Impact]</td>\n",
       "      <td>yog dao encourages wellness in web by offering...</td>\n",
       "      <td>Ethereum</td>\n",
       "      <td>0.0</td>\n",
       "    </tr>\n",
       "    <tr>\n",
       "      <th>664</th>\n",
       "      <td>8dao</td>\n",
       "      <td>[Social, Investment]</td>\n",
       "      <td>our mission is to connect like minded individu...</td>\n",
       "      <td>None</td>\n",
       "      <td>0.0</td>\n",
       "    </tr>\n",
       "    <tr>\n",
       "      <th>84</th>\n",
       "      <td>social impact dao llc dao</td>\n",
       "      <td>[Social Impact]</td>\n",
       "      <td>to empower communities through disrupting and ...</td>\n",
       "      <td>None</td>\n",
       "      <td>0.0</td>\n",
       "    </tr>\n",
       "    <tr>\n",
       "      <th>105</th>\n",
       "      <td>wagmisaurus dao</td>\n",
       "      <td>[Collector, Media]</td>\n",
       "      <td>the wagmisaurus project was created with one g...</td>\n",
       "      <td>None</td>\n",
       "      <td>0.0</td>\n",
       "    </tr>\n",
       "    <tr>\n",
       "      <th>541</th>\n",
       "      <td>miami tech runs dao</td>\n",
       "      <td>[other]</td>\n",
       "      <td>building the ultimate playground at the inters...</td>\n",
       "      <td>None</td>\n",
       "      <td>0.0</td>\n",
       "    </tr>\n",
       "  </tbody>\n",
       "</table>\n",
       "</div>"
      ],
      "text/plain": [
       "                     Dao_title            categories  \\\n",
       "0                     yog8 dao       [Social Impact]   \n",
       "664                       8dao  [Social, Investment]   \n",
       "84   social impact dao llc dao       [Social Impact]   \n",
       "105            wagmisaurus dao    [Collector, Media]   \n",
       "541        miami tech runs dao               [other]   \n",
       "\n",
       "                                                 about blockchain  followers  \n",
       "0    yog dao encourages wellness in web by offering...   Ethereum        0.0  \n",
       "664  our mission is to connect like minded individu...       None        0.0  \n",
       "84   to empower communities through disrupting and ...       None        0.0  \n",
       "105  the wagmisaurus project was created with one g...       None        0.0  \n",
       "541  building the ultimate playground at the inters...       None        0.0  "
      ]
     },
     "execution_count": 50,
     "metadata": {},
     "output_type": "execute_result"
    }
   ],
   "source": [
    "knn = NearestNeighbors(n_neighbors=5, metric='cosine')\n",
    "knn.fit(X)\n",
    "\n",
    "_, idx = knn.kneighbors(X[0])\n",
    "\n",
    "idx\n",
    "\n",
    "data.iloc[idx[0]]"
   ]
  },
  {
   "cell_type": "code",
   "execution_count": 37,
   "id": "d9b016b3",
   "metadata": {},
   "outputs": [],
   "source": [
    "users = pd.read_csv(\"user_dummy_data.csv\")"
   ]
  },
  {
   "cell_type": "code",
   "execution_count": 38,
   "id": "f3265147",
   "metadata": {},
   "outputs": [
    {
     "data": {
      "text/html": [
       "<div>\n",
       "<style scoped>\n",
       "    .dataframe tbody tr th:only-of-type {\n",
       "        vertical-align: middle;\n",
       "    }\n",
       "\n",
       "    .dataframe tbody tr th {\n",
       "        vertical-align: top;\n",
       "    }\n",
       "\n",
       "    .dataframe thead th {\n",
       "        text-align: right;\n",
       "    }\n",
       "</style>\n",
       "<table border=\"1\" class=\"dataframe\">\n",
       "  <thead>\n",
       "    <tr style=\"text-align: right;\">\n",
       "      <th></th>\n",
       "      <th>age</th>\n",
       "      <th>gender</th>\n",
       "      <th>country</th>\n",
       "      <th>city</th>\n",
       "      <th>income</th>\n",
       "      <th>blockchains</th>\n",
       "      <th>category</th>\n",
       "      <th>choice</th>\n",
       "    </tr>\n",
       "  </thead>\n",
       "  <tbody>\n",
       "    <tr>\n",
       "      <th>0</th>\n",
       "      <td>21</td>\n",
       "      <td>female</td>\n",
       "      <td>India</td>\n",
       "      <td>Bangalore</td>\n",
       "      <td>35000</td>\n",
       "      <td>[]</td>\n",
       "      <td>['music', 'sports', 'books', 'travel', 'finance']</td>\n",
       "      <td>music techno sports badminton cricket books m...</td>\n",
       "    </tr>\n",
       "    <tr>\n",
       "      <th>1</th>\n",
       "      <td>62</td>\n",
       "      <td>male</td>\n",
       "      <td>US</td>\n",
       "      <td>Philadelphia</td>\n",
       "      <td>95000</td>\n",
       "      <td>['Ripple']</td>\n",
       "      <td>['sports', 'travel', 'finance']</td>\n",
       "      <td>sports table_tennis basketball cricket travel...</td>\n",
       "    </tr>\n",
       "    <tr>\n",
       "      <th>2</th>\n",
       "      <td>47</td>\n",
       "      <td>female</td>\n",
       "      <td>UK</td>\n",
       "      <td>Newcastle</td>\n",
       "      <td>100000</td>\n",
       "      <td>['Ripple', 'Binance Smart Chain', 'Ethereum']</td>\n",
       "      <td>['music', 'sports', 'books', 'travel', 'finance']</td>\n",
       "      <td>music techno pop sports table_tennis books my...</td>\n",
       "    </tr>\n",
       "    <tr>\n",
       "      <th>3</th>\n",
       "      <td>61</td>\n",
       "      <td>female</td>\n",
       "      <td>US</td>\n",
       "      <td>San Antonio</td>\n",
       "      <td>115000</td>\n",
       "      <td>['Ripple', 'Ethereum', 'Binance Smart Chain']</td>\n",
       "      <td>['music', 'books', 'travel', 'finance']</td>\n",
       "      <td>music country books science_fiction romance t...</td>\n",
       "    </tr>\n",
       "    <tr>\n",
       "      <th>4</th>\n",
       "      <td>43</td>\n",
       "      <td>female</td>\n",
       "      <td>US</td>\n",
       "      <td>Dallas</td>\n",
       "      <td>65000</td>\n",
       "      <td>['Binance Smart Chain', 'Flow']</td>\n",
       "      <td>['music', 'sports', 'books', 'travel']</td>\n",
       "      <td>music rhythmandblues(r&amp;b) country pop sports ...</td>\n",
       "    </tr>\n",
       "  </tbody>\n",
       "</table>\n",
       "</div>"
      ],
      "text/plain": [
       "   age  gender country          city  income  \\\n",
       "0   21  female   India     Bangalore   35000   \n",
       "1   62    male      US  Philadelphia   95000   \n",
       "2   47  female      UK     Newcastle  100000   \n",
       "3   61  female      US   San Antonio  115000   \n",
       "4   43  female      US        Dallas   65000   \n",
       "\n",
       "                                     blockchains  \\\n",
       "0                                             []   \n",
       "1                                     ['Ripple']   \n",
       "2  ['Ripple', 'Binance Smart Chain', 'Ethereum']   \n",
       "3  ['Ripple', 'Ethereum', 'Binance Smart Chain']   \n",
       "4                ['Binance Smart Chain', 'Flow']   \n",
       "\n",
       "                                            category  \\\n",
       "0  ['music', 'sports', 'books', 'travel', 'finance']   \n",
       "1                    ['sports', 'travel', 'finance']   \n",
       "2  ['music', 'sports', 'books', 'travel', 'finance']   \n",
       "3            ['music', 'books', 'travel', 'finance']   \n",
       "4             ['music', 'sports', 'books', 'travel']   \n",
       "\n",
       "                                              choice  \n",
       "0   music techno sports badminton cricket books m...  \n",
       "1   sports table_tennis basketball cricket travel...  \n",
       "2   music techno pop sports table_tennis books my...  \n",
       "3   music country books science_fiction romance t...  \n",
       "4   music rhythmandblues(r&b) country pop sports ...  "
      ]
     },
     "execution_count": 38,
     "metadata": {},
     "output_type": "execute_result"
    }
   ],
   "source": [
    "users.head()"
   ]
  },
  {
   "cell_type": "code",
   "execution_count": 49,
   "id": "995348cd",
   "metadata": {},
   "outputs": [
    {
     "data": {
      "text/plain": [
       "<1x4697 sparse matrix of type '<class 'numpy.float64'>'\n",
       "\twith 15 stored elements in Compressed Sparse Row format>"
      ]
     },
     "execution_count": 49,
     "metadata": {},
     "output_type": "execute_result"
    }
   ],
   "source": [
    " vectorizer.transform([users.choice.iloc[0]])"
   ]
  },
  {
   "cell_type": "code",
   "execution_count": 55,
   "id": "02a0f01a",
   "metadata": {},
   "outputs": [
    {
     "data": {
      "text/plain": [
       "' music rhythmandblues(r&b) country pop sports table_tennis books mysteries romance travel the_caravan/rv_road_trip '"
      ]
     },
     "execution_count": 55,
     "metadata": {},
     "output_type": "execute_result"
    }
   ],
   "source": [
    "users.choice.iloc[4]"
   ]
  },
  {
   "cell_type": "code",
   "execution_count": 56,
   "id": "7885b50e",
   "metadata": {},
   "outputs": [
    {
     "data": {
      "text/html": [
       "<div>\n",
       "<style scoped>\n",
       "    .dataframe tbody tr th:only-of-type {\n",
       "        vertical-align: middle;\n",
       "    }\n",
       "\n",
       "    .dataframe tbody tr th {\n",
       "        vertical-align: top;\n",
       "    }\n",
       "\n",
       "    .dataframe thead th {\n",
       "        text-align: right;\n",
       "    }\n",
       "</style>\n",
       "<table border=\"1\" class=\"dataframe\">\n",
       "  <thead>\n",
       "    <tr style=\"text-align: right;\">\n",
       "      <th></th>\n",
       "      <th>Dao_title</th>\n",
       "      <th>categories</th>\n",
       "      <th>about</th>\n",
       "      <th>blockchain</th>\n",
       "      <th>followers</th>\n",
       "    </tr>\n",
       "  </thead>\n",
       "  <tbody>\n",
       "    <tr>\n",
       "      <th>769</th>\n",
       "      <td>switchboard dao</td>\n",
       "      <td>[Social]</td>\n",
       "      <td>community curated oracle network on solana</td>\n",
       "      <td>Solana</td>\n",
       "      <td>11600.0</td>\n",
       "    </tr>\n",
       "    <tr>\n",
       "      <th>968</th>\n",
       "      <td>monkedao</td>\n",
       "      <td>[DeFi, Collector, Social]</td>\n",
       "      <td>solana first community owned and operated nft dao</td>\n",
       "      <td>Solana</td>\n",
       "      <td>70100.0</td>\n",
       "    </tr>\n",
       "    <tr>\n",
       "      <th>50</th>\n",
       "      <td>socean dao</td>\n",
       "      <td>[DeFi]</td>\n",
       "      <td>the best risk free yields on solana</td>\n",
       "      <td>Solana</td>\n",
       "      <td>2500.0</td>\n",
       "    </tr>\n",
       "    <tr>\n",
       "      <th>491</th>\n",
       "      <td>drift protocol dao</td>\n",
       "      <td>[DeFi, Protocol]</td>\n",
       "      <td>decentralized exchange for perpetual futures b...</td>\n",
       "      <td>Solana</td>\n",
       "      <td>51900.0</td>\n",
       "    </tr>\n",
       "    <tr>\n",
       "      <th>816</th>\n",
       "      <td>solend dao</td>\n",
       "      <td>[DeFi]</td>\n",
       "      <td>algorithmic decentralized lending and borrowin...</td>\n",
       "      <td>Solana</td>\n",
       "      <td>14800.0</td>\n",
       "    </tr>\n",
       "  </tbody>\n",
       "</table>\n",
       "</div>"
      ],
      "text/plain": [
       "              Dao_title                 categories  \\\n",
       "769     switchboard dao                   [Social]   \n",
       "968            monkedao  [DeFi, Collector, Social]   \n",
       "50           socean dao                     [DeFi]   \n",
       "491  drift protocol dao           [DeFi, Protocol]   \n",
       "816          solend dao                     [DeFi]   \n",
       "\n",
       "                                                 about blockchain  followers  \n",
       "769         community curated oracle network on solana     Solana    11600.0  \n",
       "968  solana first community owned and operated nft dao     Solana    70100.0  \n",
       "50                 the best risk free yields on solana     Solana     2500.0  \n",
       "491  decentralized exchange for perpetual futures b...     Solana    51900.0  \n",
       "816  algorithmic decentralized lending and borrowin...     Solana    14800.0  "
      ]
     },
     "execution_count": 56,
     "metadata": {},
     "output_type": "execute_result"
    }
   ],
   "source": [
    "#knn = NearestNeighbors(n_neighbors=5, metric='cosine')\n",
    "#knn.fit(X)\n",
    "\n",
    "_, idx = knn.kneighbors(vectorizer.transform([users.choice.iloc[2]+\" solana ripple\"]))\n",
    "\n",
    "data.iloc[idx[0]]"
   ]
  },
  {
   "cell_type": "code",
   "execution_count": 58,
   "id": "6dce5d94",
   "metadata": {},
   "outputs": [
    {
     "data": {
      "text/plain": [
       "True"
      ]
     },
     "execution_count": 58,
     "metadata": {},
     "output_type": "execute_result"
    }
   ],
   "source": [
    "\"solana\" in vectorizer.vocabulary_"
   ]
  },
  {
   "cell_type": "code",
   "execution_count": null,
   "id": "c3ee263a",
   "metadata": {},
   "outputs": [],
   "source": []
  },
  {
   "cell_type": "code",
   "execution_count": null,
   "id": "33c2c6d3",
   "metadata": {},
   "outputs": [],
   "source": []
  },
  {
   "cell_type": "code",
   "execution_count": null,
   "id": "ba65005f",
   "metadata": {},
   "outputs": [],
   "source": []
  },
  {
   "cell_type": "code",
   "execution_count": null,
   "id": "6a3e715b",
   "metadata": {},
   "outputs": [],
   "source": []
  },
  {
   "cell_type": "code",
   "execution_count": null,
   "id": "ddf02de7",
   "metadata": {},
   "outputs": [],
   "source": []
  },
  {
   "cell_type": "code",
   "execution_count": null,
   "id": "754c6449",
   "metadata": {},
   "outputs": [],
   "source": []
  }
 ],
 "metadata": {
  "kernelspec": {
   "display_name": "Python 3 (ipykernel)",
   "language": "python",
   "name": "python3"
  },
  "language_info": {
   "codemirror_mode": {
    "name": "ipython",
    "version": 3
   },
   "file_extension": ".py",
   "mimetype": "text/x-python",
   "name": "python",
   "nbconvert_exporter": "python",
   "pygments_lexer": "ipython3",
   "version": "3.10.6"
  }
 },
 "nbformat": 4,
 "nbformat_minor": 5
}
